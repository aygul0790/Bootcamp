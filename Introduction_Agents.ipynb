{
  "nbformat": 4,
  "nbformat_minor": 0,
  "metadata": {
    "colab": {
      "provenance": [],
      "include_colab_link": true
    },
    "kernelspec": {
      "name": "python3",
      "display_name": "Python 3"
    },
    "language_info": {
      "name": "python"
    }
  },
  "cells": [
    {
      "cell_type": "markdown",
      "metadata": {
        "id": "view-in-github",
        "colab_type": "text"
      },
      "source": [
        "<a href=\"https://colab.research.google.com/github/aygul0790/Bootcamp/blob/main/Introduction_Agents.ipynb\" target=\"_parent\"><img src=\"https://colab.research.google.com/assets/colab-badge.svg\" alt=\"Open In Colab\"/></a>"
      ]
    },
    {
      "cell_type": "code",
      "execution_count": null,
      "metadata": {
        "id": "szeDvNFg6nLJ"
      },
      "outputs": [],
      "source": []
    },
    {
      "cell_type": "markdown",
      "source": [
        "An Agent is a system that leverages an AI model to interact with its environment to achieve a user-defined objective. It combines reasoning, planning, and action execution (often via external tools) to fulfil tasks."
      ],
      "metadata": {
        "id": "syBJ0sT4okbP"
      }
    },
    {
      "cell_type": "markdown",
      "source": [
        "LlamaIndex supports three main types of reasoning agents:\n",
        "\n",
        "\n",
        "Advanced Custom Agents - These use more complex methods to deal with more complex tasks and workflows.\n",
        "\n",
        "1.   Function Calling Agents - These work with AI models that can call specific functions.\n",
        "2.   ReAct Agents - These can work with any AI that does chat or text endpoint and deal with complex reasoning tasks.\n",
        "3. Advanced Custom Agents - These use more complex methods to deal with more complex tasks and workflows.\n"
      ],
      "metadata": {
        "id": "nScLTjmzoldj"
      }
    },
    {
      "cell_type": "markdown",
      "source": [
        "# Introduction to Agents with LlamaIndex\n",
        "\n",
        "This notebook provides a practical introduction to building AI agents using LlamaIndex and OpenAI. We'll create two independent agents:\n",
        "1. A Recipe Assistant that helps users find recipes and nutritional information\n",
        "2. A Financial Assistant that retrieves stock data and performs calculations"
      ],
      "metadata": {
        "id": "ooFQDGxw82Fw"
      }
    },
    {
      "cell_type": "markdown",
      "source": [
        "## 1. Setting Up the Environment\n",
        "\n",
        "First, let's install the necessary packages and set up our environment."
      ],
      "metadata": {
        "id": "tEwJmp3383HJ"
      }
    },
    {
      "cell_type": "code",
      "source": [
        "# Install the required packages\n",
        "!pip install llama-index llama-index-llms-openai llama-index-tools-yahoo-finance openai -q\n",
        "\n",
        "import os\n",
        "import asyncio\n",
        "from openai import OpenAI\n",
        "from llama_index.llms.openai import OpenAI as LlamaOpenAI\n",
        "from llama_index.core.agent.workflow import AgentWorkflow\n",
        "from IPython.display import display, Markdown"
      ],
      "metadata": {
        "colab": {
          "base_uri": "https://localhost:8080/"
        },
        "id": "ge_0Yk6P8536",
        "outputId": "46caa9dd-bac2-4792-e047-d4442599dc1a"
      },
      "execution_count": null,
      "outputs": [
        {
          "output_type": "stream",
          "name": "stdout",
          "text": [
            "\u001b[2K   \u001b[90m━━━━━━━━━━━━━━━━━━━━━━━━━━━━━━━━━━━━━━━━\u001b[0m \u001b[32m1.6/1.6 MB\u001b[0m \u001b[31m22.3 MB/s\u001b[0m eta \u001b[36m0:00:00\u001b[0m\n",
            "\u001b[2K   \u001b[90m━━━━━━━━━━━━━━━━━━━━━━━━━━━━━━━━━━━━━━━━\u001b[0m \u001b[32m40.8/40.8 kB\u001b[0m \u001b[31m2.7 MB/s\u001b[0m eta \u001b[36m0:00:00\u001b[0m\n",
            "\u001b[2K   \u001b[90m━━━━━━━━━━━━━━━━━━━━━━━━━━━━━━━━━━━━━━━━\u001b[0m \u001b[32m253.9/253.9 kB\u001b[0m \u001b[31m18.2 MB/s\u001b[0m eta \u001b[36m0:00:00\u001b[0m\n",
            "\u001b[2K   \u001b[90m━━━━━━━━━━━━━━━━━━━━━━━━━━━━━━━━━━━━━━━━\u001b[0m \u001b[32m302.3/302.3 kB\u001b[0m \u001b[31m17.9 MB/s\u001b[0m eta \u001b[36m0:00:00\u001b[0m\n",
            "\u001b[2K   \u001b[90m━━━━━━━━━━━━━━━━━━━━━━━━━━━━━━━━━━━━━━━━\u001b[0m \u001b[32m1.2/1.2 MB\u001b[0m \u001b[31m44.3 MB/s\u001b[0m eta \u001b[36m0:00:00\u001b[0m\n",
            "\u001b[2K   \u001b[90m━━━━━━━━━━━━━━━━━━━━━━━━━━━━━━━━━━━━━━━━\u001b[0m \u001b[32m50.9/50.9 kB\u001b[0m \u001b[31m3.3 MB/s\u001b[0m eta \u001b[36m0:00:00\u001b[0m\n",
            "\u001b[2K   \u001b[90m━━━━━━━━━━━━━━━━━━━━━━━━━━━━━━━━━━━━━━━━\u001b[0m \u001b[32m129.1/129.1 kB\u001b[0m \u001b[31m9.4 MB/s\u001b[0m eta \u001b[36m0:00:00\u001b[0m\n",
            "\u001b[?25h"
          ]
        }
      ]
    },
    {
      "cell_type": "markdown",
      "source": [
        "Next, we'll set up our OpenAI API key. This is required to use OpenAI's language models."
      ],
      "metadata": {
        "id": "SBCtwIxX9G5M"
      }
    },
    {
      "cell_type": "code",
      "source": [
        "# To use your own OpenAI API key, uncomment and add your key here\n",
        "# os.environ[\"OPENAI_API_KEY\"] = \"your-api-key-here\"\n",
        "\n",
        "# Or you can input it securely using getpass\n",
        "from getpass import getpass\n",
        "api_key = getpass(\"Enter your OpenAI API Key: \")\n",
        "os.environ[\"OPENAI_API_KEY\"] = api_key"
      ],
      "metadata": {
        "colab": {
          "base_uri": "https://localhost:8080/"
        },
        "id": "HyEcvS1r9Ipa",
        "outputId": "49f3bbd4-d4bd-4764-9825-739c3306269f"
      },
      "execution_count": null,
      "outputs": [
        {
          "name": "stdout",
          "output_type": "stream",
          "text": [
            "Enter your OpenAI API Key: ··········\n"
          ]
        }
      ]
    },
    {
      "cell_type": "markdown",
      "source": [
        "## 2. Recipe Assistant Agent\n",
        "\n",
        "### 2.1 Setting Up the Recipe Database\n",
        "\n",
        "We'll create a mock recipe database to demonstrate how an agent can interact with structured data."
      ],
      "metadata": {
        "id": "1XLYkzn99bsK"
      }
    },
    {
      "cell_type": "code",
      "source": [
        "# Mock recipe database\n",
        "RECIPES = {\n",
        "    \"banana smoothie\": {\n",
        "        \"ingredients\": [\"banana\", \"milk\", \"honey\", \"ice\"],\n",
        "        \"nutrition\": {\"calories\": 210, \"protein\": \"6g\", \"fat\": \"2g\"},\n",
        "        \"type\": \"vegetarian\"\n",
        "    },\n",
        "    \"avocado toast\": {\n",
        "        \"ingredients\": [\"bread\", \"avocado\", \"lemon juice\", \"salt\", \"pepper\"],\n",
        "        \"nutrition\": {\"calories\": 300, \"protein\": \"5g\", \"fat\": \"20g\"},\n",
        "        \"type\": \"vegetarian\"\n",
        "    },\n",
        "    \"pasta primavera\": {\n",
        "        \"ingredients\": [\"pasta\", \"zucchini\", \"bell pepper\", \"tomato\", \"olive oil\", \"garlic\"],\n",
        "        \"nutrition\": {\"calories\": 450, \"protein\": \"12g\", \"fat\": \"15g\"},\n",
        "        \"type\": \"vegetarian\"\n",
        "    },\n",
        "    \"chicken curry\": {\n",
        "        \"ingredients\": [\"chicken\", \"curry powder\", \"coconut milk\", \"onion\", \"garlic\", \"rice\"],\n",
        "        \"nutrition\": {\"calories\": 520, \"protein\": \"35g\", \"fat\": \"22g\"},\n",
        "        \"type\": \"non-vegetarian\"\n",
        "    }\n",
        "}"
      ],
      "metadata": {
        "id": "yVIvvHL-9elk"
      },
      "execution_count": null,
      "outputs": []
    },
    {
      "cell_type": "markdown",
      "source": [
        "### 2.2 Defining Tool Functions for the Recipe Agent\n",
        "\n",
        "Tool functions are the building blocks of our agent's capabilities. Each function represents a specific task the agent can perform.\n",
        "\n",
        "#### What are Tool Functions?\n",
        "\n",
        "Tool functions are specialized pieces of code that an agent can call to perform specific tasks. They:\n",
        "- Have well-defined inputs and outputs\n",
        "- Perform one specific function (following the single responsibility principle)\n",
        "- Are designed to be used by the agent, not directly by users\n",
        "- Have clear docstrings that help the agent understand when to use them\n",
        "\n",
        "#### Our Recipe Agent Tools\n",
        "\n",
        "We'll create four tool functions for our recipe agent:\n",
        "\n",
        "1. **`find_recipe_by_ingredients`**:\n",
        "   - **Purpose**: Searches for recipes containing specific ingredients\n",
        "   - **Input**: A list of ingredient strings\n",
        "   - **Output**: A list of recipe names that include all the specified ingredients\n",
        "   - **Use case**: When a user asks \"What can I make with X and Y?\"\n",
        "\n",
        "2. **`get_ingredients`**:\n",
        "   - **Purpose**: Retrieves all ingredients for a specific recipe\n",
        "   - **Input**: A recipe name\n",
        "   - **Output**: A list of ingredients\n",
        "   - **Use case**: When a user asks \"What do I need for X recipe?\"\n",
        "\n",
        "3. **`get_nutrition_info`**:\n",
        "   - **Purpose**: Provides nutritional information for a recipe\n",
        "   - **Input**: A recipe name\n",
        "   - **Output**: A dictionary of nutritional facts (calories, protein, fat)\n",
        "   - **Use case**: When a user asks \"How many calories are in X?\"\n",
        "\n",
        "4. **`get_recipe_type`**:\n",
        "   - **Purpose**: Determines if a recipe is vegetarian or non-vegetarian\n",
        "   - **Input**: A recipe name\n",
        "   - **Output**: A string indicating the recipe type\n",
        "   - **Use case**: When a user asks \"Is X vegetarian?\"\n",
        "\n",
        "These functions create a clear separation between the agent's reasoning (handled by the LLM) and the data access (handled by the tools). This separation is a key design principle in agent development."
      ],
      "metadata": {
        "id": "bWtRHgbaFVyE"
      }
    },
    {
      "cell_type": "code",
      "source": [
        "# Define tool functions for our recipe assistant\n",
        "def find_recipe_by_ingredients(ingredients: list[str]) -> list[str]:\n",
        "    \"\"\"Find recipes that contain all the given ingredients.\"\"\"\n",
        "    return [name for name, data in RECIPES.items()\n",
        "            if all(ing in data[\"ingredients\"] for ing in ingredients)]\n",
        "\n",
        "def get_ingredients(recipe_name: str) -> list[str]:\n",
        "    \"\"\"Return ingredients for a given recipe.\"\"\"\n",
        "    return RECIPES.get(recipe_name.lower(), {}).get(\"ingredients\", [])\n",
        "\n",
        "def get_nutrition_info(recipe_name: str) -> dict:\n",
        "    \"\"\"Return nutritional information for a given recipe.\"\"\"\n",
        "    return RECIPES.get(recipe_name.lower(), {}).get(\"nutrition\", {})\n",
        "\n",
        "def get_recipe_type(recipe_name: str) -> str:\n",
        "    \"\"\"Return whether a recipe is vegetarian or non-vegetarian.\"\"\"\n",
        "    return RECIPES.get(recipe_name.lower(), {}).get(\"type\", \"unknown\")"
      ],
      "metadata": {
        "id": "YgAnNx6D9ljH"
      },
      "execution_count": null,
      "outputs": []
    },
    {
      "cell_type": "markdown",
      "source": [
        "### 2.3 Creating the Recipe Agent Workflow\n",
        "\n",
        "Now we'll create the agent workflow by combining our tool functions with a language model. The system prompt defines the agent's personality and purpose.\n",
        "\n",
        "#### What is an Agent Workflow?\n",
        "\n",
        "An agent workflow connects large language models (LLMs) with tools to create an intelligent system that can:\n",
        "- Understand natural language requests\n",
        "- Determine which tools are needed to fulfill requests\n",
        "- Call the appropriate tools with the right parameters\n",
        "- Format the results in a human-friendly way\n",
        "\n",
        "#### Components of Our Recipe Agent\n",
        "\n",
        "Our agent workflow consists of three key components:\n",
        "\n",
        "1. **Tool Functions**:\n",
        "   - The four specialized functions we defined earlier\n",
        "   - They give the agent the ability to search recipes, retrieve ingredients, etc.\n",
        "   - Without these tools, the agent would have no way to access our recipe data\n",
        "\n",
        "2. **Language Model (LLM)**:\n",
        "   - We're using OpenAI's `gpt-4o-mini` model via LlamaIndex's wrapper\n",
        "   - The LLM acts as the \"brain\" of our agent\n",
        "   - It interprets user questions and decides which tools to use\n",
        "   - It also formats the final responses in natural language\n",
        "\n",
        "3. **System Prompt**:\n",
        "   - This is essentially the \"personality\" and instructions for our agent\n",
        "   - It tells the LLM to act as a cooking assistant\n",
        "   - It guides the agent to be helpful about recipes, ingredients, and nutrition\n",
        "   - A well-crafted system prompt is critical for agent behavior\n",
        "\n",
        "#### The AgentWorkflow Class\n",
        "\n",
        "LlamaIndex's `AgentWorkflow.from_tools_or_functions()` method:\n",
        "- Takes our tool functions and makes them available to the LLM\n",
        "- Configures the agent with our system prompt\n",
        "- Creates a streamlined interface where we simply pass user messages\n",
        "- Handles all the complex orchestration between the LLM and tools\n",
        "\n"
      ],
      "metadata": {
        "id": "MntSJ5nhFq5x"
      }
    },
    {
      "cell_type": "code",
      "source": [
        "# Create the LLM and recipe agent workflow\n",
        "llm = LlamaOpenAI(model=\"gpt-4o-mini\")\n",
        "\n",
        "recipe_workflow = AgentWorkflow.from_tools_or_functions(\n",
        "    [find_recipe_by_ingredients, get_ingredients, get_nutrition_info, get_recipe_type],\n",
        "    llm=llm,\n",
        "    system_prompt=\"You are a helpful cooking assistant. Help users find recipes, list ingredients, and provide nutritional info.\"\n",
        ")"
      ],
      "metadata": {
        "id": "XnZGYvHk9sZa"
      },
      "execution_count": null,
      "outputs": []
    },
    {
      "cell_type": "markdown",
      "source": [
        "### 2.4 Interacting with the Recipe Agent\n",
        "\n",
        "We'll create a function to query our recipe agent and display the results nicely."
      ],
      "metadata": {
        "id": "qmBb1bh69vp0"
      }
    },
    {
      "cell_type": "code",
      "source": [
        "# For demonstration in notebook cells\n",
        "async def recipe_query(question):\n",
        "    \"\"\"Send a single query to the recipe agent and display the response\"\"\"\n",
        "    response = await recipe_workflow.run(user_msg=question)\n",
        "    display(Markdown(f\"**Recipe Assistant:** {response}\"))\n",
        "    return response"
      ],
      "metadata": {
        "id": "UecKndqE9zqY"
      },
      "execution_count": null,
      "outputs": []
    },
    {
      "cell_type": "markdown",
      "source": [
        "#### Understanding Asynchronous Functions in Python\n",
        "\n",
        "Our interaction function is defined with `async def`, which indicates it's an asynchronous function:\n",
        "\n",
        "async def recipe_query(question):\n",
        "\n",
        "#### What is asynchronous programming?\n",
        "\n",
        "Asynchronous programming allows operations to run in the background while the program continues execution. This is particularly useful for:\n",
        "\n",
        "- **I/O-bound operations**: Operations that spend time waiting for external resources (like API calls or database queries)\n",
        "- **Concurrent tasks**: Running multiple operations at the same time\n",
        "- **Responsive interfaces**: Keeping an application responsive while performing long-running tasks\n",
        "\n",
        "#### Why use `async` with our agent?\n",
        "\n",
        "1. **LLM API calls are I/O-bound**: When we call the recipe agent, it makes API requests to the LLM, which can take time\n",
        "2. **Prevents blocking**: Using `async` prevents these API calls from blocking other operations in the notebook\n",
        "3. **Google Colab compatibility**: Colab works well with asynchronous code, especially for user interfaces\n",
        "\n",
        "#### Key components of async Python:\n",
        "\n",
        "- `async def`: Defines a coroutine function (not a regular function)\n",
        "- `await`: Pauses execution until the awaited coroutine completes\n",
        "- `await recipe_workflow.run(...)`: This pauses until the agent returns a response\n",
        "\n",
        "#### The Recipe Query Function\n",
        "\n",
        "Our function does several things:\n",
        "\n",
        "1. Takes a user question as input\n",
        "2. Sends it to the agent workflow using `await`\n",
        "3. Receives the response from the agent\n",
        "4. Formats the response using Markdown for nicer display\n",
        "5. Returns the raw response for potential further processing\n",
        "\n",
        "This simple interface hides the complexity of what's happening behind the scenes, where the agent is:\n",
        "- Analyzing the question\n",
        "- Deciding which tool to use\n",
        "- Calling the appropriate tool\n",
        "- Formatting a helpful response\n",
        "\n",
        "When we call this function with different types of recipe questions, we'll see how the agent adapts its behavior based on what we're asking."
      ],
      "metadata": {
        "id": "V7eIOHA5GSTF"
      }
    },
    {
      "cell_type": "markdown",
      "source": [
        "### 2.5 Adding Conversation Memory to the Recipe Agent\n",
        "\n",
        "For a more natural interaction, we'll add conversation memory to allow multi-turn conversations. This is a crucial component of any practical agent system.\n",
        "\n",
        "#### What is Conversation Memory?\n",
        "\n",
        "Conversation memory allows an agent to \"remember\" previous exchanges in a conversation, enabling it to:\n",
        "\n",
        "* **Maintain context**: Understand references to previously mentioned topics\n",
        "* **Follow conversation flow**: Create a more natural dialogue experience\n",
        "* **Handle follow-up questions**: Process questions like \"What about the pasta recipe?\" that rely on previous context\n",
        "* **Build upon previous responses**: Avoid repeating information already provided\n",
        "\n",
        "#### How It Works\n",
        "\n",
        "In our implementation:\n",
        "\n",
        "1. We create a simple list (`recipe_conversation`) that stores the entire conversation history\n",
        "2. Each user input and agent response is added to this list as it occurs\n",
        "3. When the user asks a new question, we send the entire conversation history as context\n",
        "4. The language model can then reference this history when determining how to respond\n",
        "\n",
        "Without conversation memory, each interaction would be treated as an isolated exchange, forcing users to provide complete context with every question. This would result in a rigid, unnatural experience.\n",
        "\n",
        "The example below demonstrates a simple conversation memory implementation using a list to track the entire conversation. In production systems, more sophisticated approaches might be used, such as:\n",
        "\n",
        "* Summarizing long conversations to stay within token limits\n",
        "* Maintaining entity and state trackers\n",
        "* Using vector databases to store relevant conversation fragments\n",
        "* Implementing forgetting mechanisms for very long conversations"
      ],
      "metadata": {
        "id": "pze88J0AD-sy"
      }
    },
    {
      "cell_type": "code",
      "source": [
        "# Create a conversation memory for the recipe agent\n",
        "recipe_conversation = []\n",
        "\n",
        "async def recipe_chat_with_memory():\n",
        "    \"\"\"Interactive chat with the recipe agent that maintains conversation context\"\"\"\n",
        "    print(\"👩‍🍳 Recipe Assistant Chat! Type 'exit' to quit.\")\n",
        "\n",
        "    while True:\n",
        "        user_input = input(\"You: \")\n",
        "\n",
        "        if user_input.lower() == \"exit\":\n",
        "            print(\"👋 Goodbye!\")\n",
        "            break\n",
        "\n",
        "        # Add to conversation context\n",
        "        recipe_conversation.append(f\"User: {user_input}\")\n",
        "        context = \"\\n\".join(recipe_conversation)\n",
        "\n",
        "        try:\n",
        "            # Get response\n",
        "            response = await recipe_workflow.run(user_msg=context)\n",
        "            print(f\"👩‍🍳 Recipe Assistant: {response}\\n\")\n",
        "\n",
        "            # Add to conversation context\n",
        "            recipe_conversation.append(f\"Assistant: {response}\")\n",
        "        except Exception as e:\n",
        "            print(f\"Error: {str(e)}\")\n",
        "\n"
      ],
      "metadata": {
        "id": "oIP28cC9-Dfg"
      },
      "execution_count": null,
      "outputs": []
    },
    {
      "cell_type": "markdown",
      "source": [
        "### Memory management"
      ],
      "metadata": {
        "id": "pW7elAj7Ebhx"
      }
    },
    {
      "cell_type": "markdown",
      "source": [
        "Memory management is a crucial part of conversational agent design. While we want our agent to remember relevant context, we also need mechanisms to forget or reset when appropriate. In more complex systems, this might involve sophisticated memory management rather than simply clearing everything.\n",
        "You can uncomment this line any time you want to reset the conversation to start fresh."
      ],
      "metadata": {
        "id": "li2wwr--EihZ"
      }
    },
    {
      "cell_type": "code",
      "source": [
        "# To reset the conversation history:\n",
        "# recipe_conversation.clear()"
      ],
      "metadata": {
        "id": "rok7e1cKDuTk"
      },
      "execution_count": null,
      "outputs": []
    },
    {
      "cell_type": "markdown",
      "source": [
        "Why would you need to reset memory?\n",
        "\n",
        "* To start a fresh conversation with no previous context\n",
        "* To resolve issues when the conversation has gone off track\n",
        "* To clear sensitive information that was shared earlier\n",
        "* To test how the agent behaves with and without context\n",
        "* To simulate a new user session\n",
        "\n",
        "\n",
        "When to use it:\n",
        "\n",
        "* During development and testing\n",
        "* When implementing session management in production systems\n",
        "* Between different user interactions\n",
        "* When the context window is getting too large (most LLMs have token limits)"
      ],
      "metadata": {
        "id": "hAOtMQFYEomt"
      }
    },
    {
      "cell_type": "markdown",
      "source": [
        "### 2.6 Testing the Recipe Agent\n",
        "\n",
        "Let's create an interactive experience where you can try out the recipe agent with your own queries."
      ],
      "metadata": {
        "id": "fr-CUWmR-siA"
      }
    },
    {
      "cell_type": "markdown",
      "source": [
        "#### Understanding the Different Query Modes\n",
        "\n",
        "There are two different ways to interact with the recipe agent:\n",
        "\n",
        "**Single Query Mode** and **Interactive Recipe Assistant**\n",
        "\n",
        "\n",
        "**Key Difference: Context Memory**\n",
        "While both modes connect to the same underlying agent, the interactive mode has the potential to maintain context between questions. For example, if you ask \"What can I make with avocado?\" and then follow up with \"What are the ingredients?\", the agent in interactive mode might remember you were discussing avocado recipes. In single query mode, each question stands alone without this context.\n",
        "\n",
        "Try both modes to see how they differ in user experience and to understand the importance of conversation design in agent applications!"
      ],
      "metadata": {
        "id": "nZWw3_YRBKLG"
      }
    },
    {
      "cell_type": "markdown",
      "source": [
        "#### What Can You Ask?\n",
        "\n",
        "The recipe agent can answer questions like:\n",
        "* **Finding recipes by ingredients**: \"What can I make with avocado and milk?\"\n",
        "* **Getting ingredients**: \"What ingredients do I need for pasta primavera?\"\n",
        "* **Nutritional information**: \"How many calories are in chicken curry?\"\n",
        "* **Dietary information**: \"Is banana smoothie vegetarian?\"\n",
        "\n",
        "The agent uses the tool functions we defined earlier to search our recipe database and provide helpful responses. Feel free to experiment with different questions to see how the agent processes your requests and determines which tools to use.\n"
      ],
      "metadata": {
        "id": "7FIubQVgBAoY"
      }
    },
    {
      "cell_type": "code",
      "source": [
        "# Helper function to ensure we're in a properly initialized asyncio environment in Colab\n",
        "async def run_in_colab(coroutine):\n",
        "    \"\"\"Helper to run async functions in Google Colab\"\"\"\n",
        "    try:\n",
        "        import nest_asyncio\n",
        "        nest_asyncio.apply()\n",
        "    except ImportError:\n",
        "        !pip install nest_asyncio -q\n",
        "        import nest_asyncio\n",
        "        nest_asyncio.apply()\n",
        "\n",
        "    return await coroutine"
      ],
      "metadata": {
        "id": "zw9aCaxIB02h"
      },
      "execution_count": null,
      "outputs": []
    },
    {
      "cell_type": "markdown",
      "source": [
        "### **Single query mode**\n",
        "* This mode allows you to ask just one question at a time\n",
        "* Each time you run the cell, you'll be prompted for a new question\n",
        "* The agent doesn't maintain memory between different questions\n",
        "* Best for: Testing specific question types or demonstrating how the agent handles different queries\n",
        "* Use this when you want to focus on understanding how a particular type of query works\n"
      ],
      "metadata": {
        "id": "QS6CDmq2BkF4"
      }
    },
    {
      "cell_type": "code",
      "source": [
        "# single query mode:\n",
        "async def try_recipe_query():\n",
        "    question = input(\"Enter your recipe question: \")\n",
        "    await run_in_colab(recipe_query(question))\n",
        "\n",
        "\n",
        "await run_in_colab(try_recipe_query())\n"
      ],
      "metadata": {
        "colab": {
          "base_uri": "https://localhost:8080/",
          "height": 171
        },
        "id": "wD5Em_bbAFlH",
        "outputId": "249b0166-ff6a-4f7f-f3a2-bda9b0bc03c1"
      },
      "execution_count": null,
      "outputs": [
        {
          "name": "stdout",
          "output_type": "stream",
          "text": [
            "Enter your recipe question: What are the ingredients for pasta primavera?\n"
          ]
        },
        {
          "output_type": "display_data",
          "data": {
            "text/plain": [
              "<IPython.core.display.Markdown object>"
            ],
            "text/markdown": "**Recipe Assistant:** The ingredients for Pasta Primavera are:\n\n- Pasta\n- Zucchini\n- Bell pepper\n- Tomato\n- Olive oil\n- Garlic"
          },
          "metadata": {}
        }
      ]
    },
    {
      "cell_type": "markdown",
      "source": [
        "### **Interactive recipe query function**\n",
        "* This mode provides a continuous conversation experience\n",
        "* You can ask multiple questions in succession without rerunning cells\n",
        "* **Special Commands:**\n",
        "  * Type `examples` to see sample questions you can ask\n",
        "  * Type `exit` to end the conversation and quit the assistant\n",
        "* The assistant maintains the conversation flow and remembers previous interactions\n",
        "* Best for: Exploring the agent's capabilities or simulating a real user interaction\n",
        "* Use this when you want to experience how an agent would work in a production environment\n",
        "\n",
        "\n"
      ],
      "metadata": {
        "id": "bAXVNNUQB751"
      }
    },
    {
      "cell_type": "code",
      "source": [
        "# Interactive recipe query function\n",
        "\n",
        "async def interactive_recipe_assistant():\n",
        "    \"\"\"Interactive session with the recipe agent\"\"\"\n",
        "    print(\"🍳 Welcome to the Recipe Assistant! 🍳\")\n",
        "    print(\"Ask me about recipes, ingredients, or nutritional information.\")\n",
        "    print(\"Type 'examples' to see sample questions or 'exit' to quit.\")\n",
        "\n",
        "    examples = [\n",
        "        \"What can I make with avocado and bread?\",\n",
        "        \"What are the ingredients for pasta primavera?\",\n",
        "        \"Is banana smoothie vegetarian?\",\n",
        "        \"What's the nutritional info for chicken curry?\",\n",
        "        \"Show me vegetarian recipes\"\n",
        "    ]\n",
        "\n",
        "    while True:\n",
        "        user_input = input(\"\\nYour question: \")\n",
        "\n",
        "        if user_input.lower() == 'exit':\n",
        "            print(\"Thanks for using the Recipe Assistant. Goodbye!\")\n",
        "            break\n",
        "\n",
        "        if user_input.lower() == 'examples':\n",
        "            print(\"\\nHere are some example questions you can ask:\")\n",
        "            for i, example in enumerate(examples, 1):\n",
        "                print(f\"{i}. {example}\")\n",
        "            continue\n",
        "\n",
        "        print(\"\\nThinking...\\n\")\n",
        "        response = await recipe_workflow.run(user_msg=user_input)\n",
        "        print(f\"🍽️ {response}\")\n",
        "\n",
        "# Run the interactive assistant\n",
        "await run_in_colab(interactive_recipe_assistant())"
      ],
      "metadata": {
        "colab": {
          "base_uri": "https://localhost:8080/"
        },
        "id": "xlT4CsoQ-tu4",
        "outputId": "56007396-7899-42b7-8a68-96893c0b2f30"
      },
      "execution_count": null,
      "outputs": [
        {
          "output_type": "stream",
          "name": "stdout",
          "text": [
            "🍳 Welcome to the Recipe Assistant! 🍳\n",
            "Ask me about recipes, ingredients, or nutritional information.\n",
            "Type 'examples' to see sample questions or 'exit' to quit.\n",
            "\n",
            "Your question: What can I make with avocado and bread?\n",
            "\n",
            "Thinking...\n",
            "\n",
            "🍽️ You can make **Avocado Toast** with avocado and bread. Here are the details:\n",
            "\n",
            "### Ingredients:\n",
            "- Bread\n",
            "- Avocado\n",
            "- Lemon juice\n",
            "- Salt\n",
            "- Pepper\n",
            "\n",
            "### Nutritional Information (per serving):\n",
            "- **Calories:** 300\n",
            "- **Protein:** 5g\n",
            "- **Fat:** 20g\n",
            "\n",
            "### Recipe Type:\n",
            "- Vegetarian\n",
            "\n",
            "Enjoy your avocado toast!\n",
            "\n",
            "Your question: What are the ingredients for pasta primavera?\n",
            "\n",
            "Thinking...\n",
            "\n",
            "🍽️ The ingredients for Pasta Primavera are:\n",
            "\n",
            "- Pasta\n",
            "- Zucchini\n",
            "- Bell pepper\n",
            "- Tomato\n",
            "- Olive oil\n",
            "- Garlic\n",
            "\n",
            "Your question: What's the nutritional info for chicken curry?\n",
            "\n",
            "Thinking...\n",
            "\n",
            "🍽️ The nutritional information for chicken curry is as follows:\n",
            "\n",
            "- **Calories:** 520\n",
            "- **Protein:** 35g\n",
            "- **Fat:** 22g\n",
            "\n",
            "Your question: Show me vegetarian recipes\n",
            "\n",
            "Thinking...\n",
            "\n",
            "🍽️ It seems that I couldn't find any vegetarian recipes directly. However, I can help you with specific vegetarian ingredients or types of dishes you're interested in. Do you have any particular ingredients or types of vegetarian recipes in mind?\n",
            "\n",
            "Your question: examples\n",
            "\n",
            "Here are some example questions you can ask:\n",
            "1. What can I make with avocado and bread?\n",
            "2. What are the ingredients for pasta primavera?\n",
            "3. Is banana smoothie vegetarian?\n",
            "4. What's the nutritional info for chicken curry?\n",
            "5. Show me vegetarian recipes\n",
            "\n",
            "Your question: exit\n",
            "Thanks for using the Recipe Assistant. Goodbye!\n"
          ]
        }
      ]
    },
    {
      "cell_type": "markdown",
      "source": [
        "#### Understanding What's Happening Behind the Scenes\n",
        "\n",
        "When you ask the recipe agent a question, here's what happens:\n",
        "\n",
        "1. The agent receives your natural language query\n",
        "2. It analyzes what you're asking for\n",
        "3. It selects the appropriate tool function:\n",
        "   - `find_recipe_by_ingredients()` when you ask what you can make with certain ingredients\n",
        "   - `get_ingredients()` when you ask for recipe ingredients\n",
        "   - `get_nutrition_info()` when you ask about calories or nutritional content\n",
        "   - `get_recipe_type()` when you ask if a recipe is vegetarian or not\n",
        "4. It calls that function with the appropriate parameters\n",
        "5. It formats the response in a helpful, human-readable way\n",
        "\n",
        "This process demonstrates the power of combining large language models with specific tool functions. The LLM handles the language understanding and generation, while the tools handle the specific data retrieval tasks.\n",
        "\n",
        "Try asking some questions and think about which tool is being used each time!"
      ],
      "metadata": {
        "id": "bhlKyKkMDdeQ"
      }
    },
    {
      "cell_type": "markdown",
      "source": [
        "## 3. Financial Assistant Agent\n",
        "\n",
        "In this section, we'll build a different type of agent that combines financial data access with mathematical operations. This demonstrates how agents can integrate multiple capabilities to perform more complex tasks.\n",
        "\n",
        "### 3.1 Setting Up the Financial Tools\n",
        "\n",
        "Our financial assistant will need two types of tools:\n",
        "1. Tools to retrieve stock market data\n",
        "2. Tools to perform calculations on that data\n",
        "\n",
        "For the financial data, we'll use Yahoo Finance, which provides real-time stock information. For calculations, we'll create basic math functions that our agent can use to analyze the data."
      ],
      "metadata": {
        "id": "cRhof43dIFub"
      }
    },
    {
      "cell_type": "code",
      "source": [
        "# Import Yahoo Finance tools\n",
        "from llama_index.tools.yahoo_finance import YahooFinanceToolSpec\n",
        "\n",
        "# Define mathematical tool functions\n",
        "def multiply(a: float, b: float) -> float:\n",
        "    \"\"\"Multiply two numbers and returns the product\"\"\"\n",
        "    return a * b\n",
        "\n",
        "def add(a: float, b: float) -> float:\n",
        "    \"\"\"Add two numbers and returns the sum\"\"\"\n",
        "    return a + b\n",
        "\n",
        "def subtract(a: float, b: float) -> float:\n",
        "    \"\"\"Subtract b from a and return the difference\"\"\"\n",
        "    return a - b\n",
        "\n",
        "def divide(a: float, b: float) -> float:\n",
        "    \"\"\"Divide a by b and return the quotient. Requires b != 0\"\"\"\n",
        "    if b == 0:\n",
        "        raise ValueError(\"Cannot divide by zero\")\n",
        "    return a / b"
      ],
      "metadata": {
        "id": "UGZXPDS9Dan_"
      },
      "execution_count": null,
      "outputs": []
    },
    {
      "cell_type": "markdown",
      "source": [
        "#### Understanding the Financial Tools\n",
        "\n",
        "Our Financial Assistant uses two categories of tools:\n",
        "\n",
        "1. **Yahoo Finance Tools**:\n",
        "   - Provided by the `YahooFinanceToolSpec` class from LlamaIndex\n",
        "   - Allows access to real-time and historical stock data\n",
        "   - Can retrieve information like stock prices, company information, and financial metrics\n",
        "   - These tools connect to external data sources via APIs\n",
        "\n",
        "2. **Mathematical Operation Tools**:\n",
        "   - Custom-built functions for basic arithmetic\n",
        "   - Allow the agent to perform calculations on the financial data\n",
        "   - Each follows the same pattern: take numeric inputs and return a calculated result\n",
        "   - Include proper error handling (like preventing division by zero)\n",
        "\n",
        "**Yahoo Finance Capabilities:**\n",
        "When we convert the Yahoo Finance tool specification to a list using `.to_tool_list()`, we get access to functions like:\n",
        "- Getting current stock prices\n",
        "- Retrieving company information\n",
        "- Accessing financial metrics like P/E ratios\n",
        "- Checking historical price data\n",
        "\n",
        "These tools demonstrate an important principle: agents become more powerful when they can access external data sources and perform operations on that data."
      ],
      "metadata": {
        "id": "HjAY4gqWIPZr"
      }
    },
    {
      "cell_type": "markdown",
      "source": [
        "### 3.2 Creating the Financial Agent Workflow\n",
        "\n",
        "Now we'll combine the Yahoo Finance tools with our math functions to create a financial assistant that can both retrieve data and perform calculations on it. This combination makes our agent much more useful than one that could only do either task alone."
      ],
      "metadata": {
        "id": "etonUtnFIUJl"
      }
    },
    {
      "cell_type": "code",
      "source": [
        "# Get Yahoo Finance tools and add our custom math functions\n",
        "finance_tools = YahooFinanceToolSpec().to_tool_list()\n",
        "finance_tools.extend([multiply, add, subtract, divide])\n",
        "\n",
        "# Create the finance agent workflow\n",
        "finance_workflow = AgentWorkflow.from_tools_or_functions(\n",
        "    finance_tools,\n",
        "    llm=llm,\n",
        "    system_prompt=\"You are a financial assistant that can retrieve stock information and perform calculations. Always round dollar values to 2 decimal places.\"\n",
        ")"
      ],
      "metadata": {
        "id": "ba0qlOgsIQnz"
      },
      "execution_count": null,
      "outputs": []
    },
    {
      "cell_type": "markdown",
      "source": [
        "#### The Financial Agent Architecture\n",
        "\n",
        "Let's analyze what we've done to create our financial assistant:\n",
        "\n",
        "1. **Tool Integration**:\n",
        "   - We first converted the Yahoo Finance tool specification into a list of usable tools\n",
        "   - We then extended this list with our custom math functions\n",
        "   - This creates a comprehensive toolset that combines data retrieval and computation\n",
        "\n",
        "2. **Workflow Creation**:\n",
        "   - We use the same `AgentWorkflow.from_tools_or_functions()` method as before\n",
        "   - We pass our combined list of tools to make them available to the agent\n",
        "   - We reuse the same LLM instance we created earlier\n",
        "\n",
        "3. **System Prompt Design**:\n",
        "   - The system prompt is specifically tailored for financial assistance\n",
        "   - It instructs the agent to retrieve stock information and perform calculations\n",
        "   - It includes a formatting instruction (rounding dollar values) for consistency\n",
        "   - This demonstrates how the system prompt shapes agent behavior for different use cases\n",
        "\n",
        "The power of this approach is that we can easily create specialized agents by:\n",
        "1. Selecting appropriate tools for the domain\n",
        "2. Writing a tailored system prompt\n",
        "3. Using the same underlying LLM and workflow architecture\n",
        "\n",
        "This modularity is a key advantage of tool-based agents compared to pure LLM applications."
      ],
      "metadata": {
        "id": "t8c4Ofn4IYPl"
      }
    },
    {
      "cell_type": "markdown",
      "source": [
        "### 3.3 Interacting with the Financial Agent\n",
        "\n",
        "Similar to our recipe agent, we'll create a function to query our financial agent and display the results nicely."
      ],
      "metadata": {
        "id": "N8nSCXRdI6Lr"
      }
    },
    {
      "cell_type": "code",
      "source": [
        "# Function to query the finance agent\n",
        "async def finance_query(question):\n",
        "    \"\"\"Send a single query to the financial agent and display the response\"\"\"\n",
        "    response = await finance_workflow.run(user_msg=question)\n",
        "    display(Markdown(f\"**Financial Assistant:** {response}\"))\n",
        "    return response"
      ],
      "metadata": {
        "id": "sreHcrxYI_cI"
      },
      "execution_count": null,
      "outputs": []
    },
    {
      "cell_type": "markdown",
      "source": [
        "#### Query Function Design\n",
        "\n",
        "Our `finance_query` function follows the same pattern as the recipe query function:\n",
        "\n",
        "1. It's defined as an `async` function, which allows for non-blocking API calls\n",
        "2. It takes a question as input and passes it to the financial agent workflow\n",
        "3. It formats the response with Markdown for better readability\n",
        "4. It returns the raw response for potential further use\n",
        "\n",
        "The similarity between the two query functions demonstrates an important concept in agent design: once you have the basic architecture in place, adding new agents with different capabilities follows a consistent pattern. This modularity makes it easy to build multiple specialized agents.\n",
        "\n",
        "While the query function looks the same, the underlying agent's behavior will be very different because:\n",
        "- It has access to different tools (Yahoo Finance + math functions)\n",
        "- It operates under a different system prompt (financial assistant vs. cooking assistant)\n",
        "- It will recognize and respond to finance-specific questions"
      ],
      "metadata": {
        "id": "BrxOZpzPJDOn"
      }
    },
    {
      "cell_type": "markdown",
      "source": [
        "### 3.4 Adding Conversation Memory to the Financial Agent\n",
        "\n",
        "Just like with our recipe agent, we'll add conversation memory to the financial agent to enable multi-turn interactions and maintain context throughout the conversation."
      ],
      "metadata": {
        "id": "Z_ugdKeVJNqu"
      }
    },
    {
      "cell_type": "code",
      "source": [
        "# Create a conversation memory for the financial agent\n",
        "finance_conversation = []\n",
        "\n",
        "async def finance_chat_with_memory():\n",
        "    \"\"\"Interactive chat with the financial agent that maintains conversation context\"\"\"\n",
        "    print(\"💰 Financial Assistant Chat! Type 'exit' to quit.\")\n",
        "\n",
        "    while True:\n",
        "        user_input = input(\"You: \")\n",
        "\n",
        "        if user_input.lower() == \"exit\":\n",
        "            print(\"👋 Goodbye!\")\n",
        "            break\n",
        "\n",
        "        # Add to conversation context\n",
        "        finance_conversation.append(f\"User: {user_input}\")\n",
        "        context = \"\\n\".join(finance_conversation)\n",
        "\n",
        "        try:\n",
        "            # Get response\n",
        "            response = await finance_workflow.run(user_msg=context)\n",
        "            print(f\"💰 Financial Assistant: {response}\\n\")\n",
        "\n",
        "            # Add to conversation context\n",
        "            finance_conversation.append(f\"Assistant: {response}\")\n",
        "        except Exception as e:\n",
        "            print(f\"Error: {str(e)}\")\n"
      ],
      "metadata": {
        "id": "32ZHgkvpJSm4"
      },
      "execution_count": null,
      "outputs": []
    },
    {
      "cell_type": "code",
      "source": [
        "# To reset the conversation history:\n",
        "#finance_conversation.clear()"
      ],
      "metadata": {
        "id": "_vHDk1mJJXiw"
      },
      "execution_count": null,
      "outputs": []
    },
    {
      "cell_type": "markdown",
      "source": [
        "#### Conversation Memory for Finance Queries\n",
        "\n",
        "The conversation memory implementation for our financial assistant mirrors the one we created for the recipe agent:\n",
        "\n",
        "1. We create a list (`finance_conversation`) to store the conversation history\n",
        "2. Our chat function appends each user question and agent response to this history\n",
        "3. When processing a new query, we provide the entire conversation as context\n",
        "\n",
        "This approach is particularly valuable for financial discussions, which often involve:\n",
        "\n",
        "- **Follow-up questions**: \"What about Microsoft?\" after asking about Apple\n",
        "- **Comparative analyses**: Asking about relationships between previously mentioned stocks\n",
        "- **Complex scenarios**: Building up a hypothetical investment scenario across multiple interactions\n",
        "\n",
        "**Example Financial Conversation Flow**:\n",
        "1. User asks about Apple's current stock price\n",
        "2. Agent provides the price\n",
        "3. User asks about the P/E ratio\n",
        "4. Agent answers, using the context that we're still discussing Apple\n",
        "5. User asks \"How does that compare to Microsoft?\"\n",
        "6. Agent understands \"that\" refers to the P/E ratio, and the comparison is to Apple\n",
        "\n",
        "Without conversation memory, step 5 would require the user to explicitly state \"How does Apple's P/E ratio compare to Microsoft's P/E ratio?\" This explicit repetition makes conversations feel unnatural and tedious.\n",
        "\n",
        "As with the recipe agent, you can clear the conversation history at any time by uncommenting and running the `finance_conversation.clear()` line."
      ],
      "metadata": {
        "id": "dzmZ0z_pJhLN"
      }
    },
    {
      "cell_type": "markdown",
      "source": [
        "### 3.5 Testing the Financial Agent\n",
        "\n",
        "Let's test our financial agent with some example queries that demonstrate its capabilities with both stock data retrieval and calculations."
      ],
      "metadata": {
        "id": "3cPCWmfdJl23"
      }
    },
    {
      "cell_type": "code",
      "source": [
        "# Finance Agent Examples\n",
        "print(\"\\n=== Financial Agent Examples ===\")\n",
        "await finance_query(\"What is the current price of Apple stock?\")\n",
        "await finance_query(\"What is the current price of Microsoft stock?\")\n",
        "await finance_query(\"What would be the value of 10 shares of Tesla?\")\n",
        "\n"
      ],
      "metadata": {
        "colab": {
          "base_uri": "https://localhost:8080/",
          "height": 1000
        },
        "id": "GDzP3ftqJiw0",
        "outputId": "339b82e0-facf-40f5-81c8-54205d13116d"
      },
      "execution_count": null,
      "outputs": [
        {
          "output_type": "stream",
          "name": "stdout",
          "text": [
            "\n",
            "=== Financial Agent Examples ===\n"
          ]
        },
        {
          "output_type": "display_data",
          "data": {
            "text/plain": [
              "<IPython.core.display.Markdown object>"
            ],
            "text/markdown": "**Financial Assistant:** The current price of Apple stock (AAPL) is $217.90."
          },
          "metadata": {}
        },
        {
          "output_type": "display_data",
          "data": {
            "text/plain": [
              "<IPython.core.display.Markdown object>"
            ],
            "text/markdown": "**Financial Assistant:** The current price of Microsoft stock (MSFT) is $378.80."
          },
          "metadata": {}
        },
        {
          "output_type": "display_data",
          "data": {
            "text/plain": [
              "<IPython.core.display.Markdown object>"
            ],
            "text/markdown": "**Financial Assistant:** The value of 10 shares of Tesla (TSLA) at the current price of $263.55 per share would be **$2635.50**."
          },
          "metadata": {}
        },
        {
          "output_type": "execute_result",
          "data": {
            "text/plain": [
              "AgentOutput(response=ChatMessage(role=<MessageRole.ASSISTANT: 'assistant'>, additional_kwargs={}, blocks=[TextBlock(block_type='text', text='The value of 10 shares of Tesla (TSLA) at the current price of $263.55 per share would be **$2635.50**.')]), tool_calls=[ToolCallResult(tool_name='stock_basic_info', tool_kwargs={'ticker': 'TSLA'}, tool_id='call_EmBpbhlIihRXuj0eXtN0VRys', tool_output=ToolOutput(content=\"Info: \\n{'address1': '1 Tesla Road', 'city': 'Austin', 'state': 'TX', 'zip': '78725', 'country': 'United States', 'phone': '512 516 8177', 'website': 'https://www.tesla.com', 'industry': 'Auto Manufacturers', 'industryKey': 'auto-manufacturers', 'industryDisp': 'Auto Manufacturers', 'sector': 'Consumer Cyclical', 'sectorKey': 'consumer-cyclical', 'sectorDisp': 'Consumer Cyclical', 'longBusinessSummary': 'Tesla, Inc. designs, develops, manufactures, leases, and sells electric vehicles, and energy generation and storage systems in the United States, China, and internationally. The company operates in two segments, Automotive; and Energy Generation and Storage. The Automotive segment offers electric vehicles, as well as sells automotive regulatory credits; and non-warranty after-sales vehicle, used vehicles, body shop and parts, supercharging, retail merchandise, and vehicle insurance services. This segment also provides sedans and sport utility vehicles through direct and used vehicle sales, a network of Tesla Superchargers, and in-app upgrades; purchase financing and leasing services; services for electric vehicles through its company-owned service locations and Tesla mobile service technicians; and vehicle limited warranties and extended service plans. The Energy Generation and Storage segment engages in the design, manufacture, installation, sale, and leasing of solar energy generation and energy storage products, and related services to residential, commercial, and industrial customers and utilities through its website, stores, and galleries, as well as through a network of channel partners. This segment also provides services and repairs to its energy product customers, including under warranty; and various financing options to its residential customers. The company was formerly known as Tesla Motors, Inc. and changed its name to Tesla, Inc. in February 2017. Tesla, Inc. was incorporated in 2003 and is headquartered in Austin, Texas.', 'fullTimeEmployees': 125665, 'companyOfficers': [{'maxAge': 1, 'name': 'Mr. Elon R. Musk', 'age': 53, 'title': 'Co-Founder, Technoking of Tesla, CEO & Director', 'yearBorn': 1971, 'fiscalYear': 2023, 'exercisedValue': 0, 'unexercisedValue': 0}, {'maxAge': 1, 'name': 'Mr. Vaibhav  Taneja', 'age': 46, 'title': 'Chief Financial Officer', 'yearBorn': 1978, 'fiscalYear': 2023, 'totalPay': 278000, 'exercisedValue': 8517957, 'unexercisedValue': 202075632}, {'maxAge': 1, 'name': 'Mr. Xiaotong  Zhu', 'age': 44, 'title': 'Senior Vice President of Automotive', 'yearBorn': 1980, 'fiscalYear': 2023, 'totalPay': 926877, 'exercisedValue': 0, 'unexercisedValue': 344144320}, {'maxAge': 1, 'name': 'Travis  Axelrod', 'title': 'Head of Investor Relations', 'fiscalYear': 2023, 'exercisedValue': 0, 'unexercisedValue': 0}, {'maxAge': 1, 'name': 'Brian  Scelfo', 'title': 'Senior Director of Corporate Development', 'fiscalYear': 2023, 'exercisedValue': 0, 'unexercisedValue': 0}, {'maxAge': 1, 'name': 'Mr. Franz  von Holzhausen', 'title': 'Chief Designer', 'fiscalYear': 2023, 'exercisedValue': 0, 'unexercisedValue': 0}, {'maxAge': 1, 'name': 'Mr. John  Walker', 'age': 61, 'title': 'Vice President of Sales - North America', 'yearBorn': 1963, 'fiscalYear': 2023, 'totalPay': 121550, 'exercisedValue': 0, 'unexercisedValue': 0}, {'maxAge': 1, 'name': 'Mr. Peter  Bannon', 'title': 'Chip Architect', 'fiscalYear': 2023, 'exercisedValue': 0, 'unexercisedValue': 0}, {'maxAge': 1, 'name': 'Mr. Turner  Caldwell', 'title': 'Engineering Manager', 'fiscalYear': 2023, 'exercisedValue': 0, 'unexercisedValue': 0}, {'maxAge': 1, 'name': 'Mr. Rodney D. Westmoreland Jr.', 'title': 'Director of Construction Management', 'fiscalYear': 2023, 'exercisedValue': 0, 'unexercisedValue': 0}], 'auditRisk': 5, 'boardRisk': 9, 'compensationRisk': 10, 'shareHolderRightsRisk': 9, 'overallRisk': 10, 'governanceEpochDate': 1740787200, 'compensationAsOfEpochDate': 1703980800, 'executiveTeam': [], 'maxAge': 86400, 'priceHint': 2, 'previousClose': 273.13, 'open': 275.5, 'dayLow': 260.58, 'dayHigh': 276.1, 'regularMarketPreviousClose': 273.13, 'regularMarketOpen': 275.5, 'regularMarketDayLow': 260.59, 'regularMarketDayHigh': 276.1, 'payoutRatio': 0.0, 'beta': 2.507, 'trailingPE': 129.82758, 'forwardPE': 81.34259, 'volume': 122381779, 'regularMarketVolume': 122381779, 'averageVolume': 95432981, 'averageVolume10days': 132862380, 'averageDailyVolume10Day': 132862380, 'bid': 263.47, 'ask': 263.6, 'bidSize': 1, 'askSize': 1, 'marketCap': 847713796096, 'fiftyTwoWeekLow': 138.8, 'fiftyTwoWeekHigh': 488.54, 'priceToSalesTrailing12Months': 8.67759, 'fiftyDayAverage': 322.4788, 'twoHundredDayAverage': 286.65094, 'trailingAnnualDividendRate': 0.0, 'trailingAnnualDividendYield': 0.0, 'currency': 'USD', 'tradeable': False, 'enterpriseValue': 825540083712, 'profitMargins': 0.07259, 'floatShares': 2799206117, 'sharesOutstanding': 3216519936, 'sharesShort': 81331870, 'sharesShortPriorMonth': 61498198, 'sharesShortPreviousMonthDate': 1739491200, 'dateShortInterest': 1741910400, 'sharesPercentSharesOut': 0.0253, 'heldPercentInsiders': 0.12886, 'heldPercentInstitutions': 0.49335, 'shortRatio': 0.78, 'shortPercentOfFloat': 0.029000001, 'impliedSharesOutstanding': 3216519936, 'bookValue': 22.672, 'priceToBook': 11.62447, 'lastFiscalYearEnd': 1735603200, 'nextFiscalYearEnd': 1767139200, 'mostRecentQuarter': 1735603200, 'earningsQuarterlyGrowth': -0.708, 'netIncomeToCommon': 7129999872, 'trailingEps': 2.03, 'forwardEps': 3.24, 'lastSplitFactor': '3:1', 'lastSplitDate': 1661385600, 'enterpriseToRevenue': 8.451, 'enterpriseToEbitda': 63.371, '52WeekChange': 0.50410914, 'SandP52WeekChange': 0.06429911, 'quoteType': 'EQUITY', 'currentPrice': 263.55, 'targetHighPrice': 550.0, 'targetLowPrice': 120.0, 'targetMeanPrice': 330.37732, 'targetMedianPrice': 325.0, 'recommendationMean': 2.61702, 'recommendationKey': 'hold', 'numberOfAnalystOpinions': 41, 'totalCash': 36563001344, 'totalCashPerShare': 11.367, 'ebitda': 13027000320, 'totalDebt': 13623000064, 'quickRatio': 1.427, 'currentRatio': 2.025, 'totalRevenue': 97690001408, 'debtToEquity': 18.489, 'revenuePerShare': 30.557, 'returnOnAssets': 0.04186, 'returnOnEquity': 0.1042, 'grossProfits': 17450000384, 'freeCashflow': -826875008, 'operatingCashflow': 14922999808, 'earningsGrowth': -0.709, 'revenueGrowth': 0.021, 'grossMargins': 0.17863001, 'ebitdaMargins': 0.13335, 'operatingMargins': 0.06158, 'financialCurrency': 'USD', 'symbol': 'TSLA', 'language': 'en-US', 'region': 'US', 'typeDisp': 'Equity', 'quoteSourceName': 'Nasdaq Real Time Price', 'triggerable': True, 'customPriceAlertConfidence': 'HIGH', 'marketState': 'CLOSED', 'shortName': 'Tesla, Inc.', 'longName': 'Tesla, Inc.', 'regularMarketChangePercent': -3.5074935, 'regularMarketPrice': 263.55, 'corporateActions': [], 'postMarketTime': 1743206399, 'regularMarketTime': 1743192000, 'exchange': 'NMS', 'messageBoardId': 'finmb_27444752', 'exchangeTimezoneName': 'America/New_York', 'exchangeTimezoneShortName': 'EDT', 'gmtOffSetMilliseconds': -14400000, 'market': 'us_market', 'esgPopulated': False, 'cryptoTradeable': False, 'hasPrePostMarketData': True, 'firstTradeDateMilliseconds': 1277818200000, 'postMarketChangePercent': -1.30146, 'postMarketPrice': 260.12, 'postMarketChange': -3.42999, 'regularMarketChange': -9.580017, 'regularMarketDayRange': '260.59 - 276.1', 'fullExchangeName': 'NasdaqGS', 'averageDailyVolume3Month': 95432981, 'fiftyTwoWeekLowChange': 124.749985, 'fiftyTwoWeekLowChangePercent': 0.8987751, 'fiftyTwoWeekRange': '138.8 - 488.54', 'fiftyTwoWeekHighChange': -224.99002, 'fiftyTwoWeekHighChangePercent': -0.4605355, 'fiftyTwoWeekChangePercent': 50.410915, 'earningsTimestamp': 1738184940, 'earningsTimestampStart': 1745438400, 'earningsTimestampEnd': 1746302400, 'earningsCallTimestampStart': 1738189800, 'earningsCallTimestampEnd': 1738189800, 'isEarningsDateEstimate': True, 'epsTrailingTwelveMonths': 2.03, 'epsForward': 3.24, 'epsCurrentYear': 2.64111, 'priceEpsCurrentYear': 99.78759, 'fiftyDayAverageChange': -58.928802, 'fiftyDayAverageChangePercent': -0.182737, 'twoHundredDayAverageChange': -23.100952, 'twoHundredDayAverageChangePercent': -0.08058914, 'sourceInterval': 15, 'exchangeDataDelayedBy': 0, 'averageAnalystRating': '2.6 - Hold', 'displayName': 'Tesla', 'trailingPegRatio': 3.2021}\", tool_name='stock_basic_info', raw_input={'args': (), 'kwargs': {'ticker': 'TSLA'}}, raw_output=\"Info: \\n{'address1': '1 Tesla Road', 'city': 'Austin', 'state': 'TX', 'zip': '78725', 'country': 'United States', 'phone': '512 516 8177', 'website': 'https://www.tesla.com', 'industry': 'Auto Manufacturers', 'industryKey': 'auto-manufacturers', 'industryDisp': 'Auto Manufacturers', 'sector': 'Consumer Cyclical', 'sectorKey': 'consumer-cyclical', 'sectorDisp': 'Consumer Cyclical', 'longBusinessSummary': 'Tesla, Inc. designs, develops, manufactures, leases, and sells electric vehicles, and energy generation and storage systems in the United States, China, and internationally. The company operates in two segments, Automotive; and Energy Generation and Storage. The Automotive segment offers electric vehicles, as well as sells automotive regulatory credits; and non-warranty after-sales vehicle, used vehicles, body shop and parts, supercharging, retail merchandise, and vehicle insurance services. This segment also provides sedans and sport utility vehicles through direct and used vehicle sales, a network of Tesla Superchargers, and in-app upgrades; purchase financing and leasing services; services for electric vehicles through its company-owned service locations and Tesla mobile service technicians; and vehicle limited warranties and extended service plans. The Energy Generation and Storage segment engages in the design, manufacture, installation, sale, and leasing of solar energy generation and energy storage products, and related services to residential, commercial, and industrial customers and utilities through its website, stores, and galleries, as well as through a network of channel partners. This segment also provides services and repairs to its energy product customers, including under warranty; and various financing options to its residential customers. The company was formerly known as Tesla Motors, Inc. and changed its name to Tesla, Inc. in February 2017. Tesla, Inc. was incorporated in 2003 and is headquartered in Austin, Texas.', 'fullTimeEmployees': 125665, 'companyOfficers': [{'maxAge': 1, 'name': 'Mr. Elon R. Musk', 'age': 53, 'title': 'Co-Founder, Technoking of Tesla, CEO & Director', 'yearBorn': 1971, 'fiscalYear': 2023, 'exercisedValue': 0, 'unexercisedValue': 0}, {'maxAge': 1, 'name': 'Mr. Vaibhav  Taneja', 'age': 46, 'title': 'Chief Financial Officer', 'yearBorn': 1978, 'fiscalYear': 2023, 'totalPay': 278000, 'exercisedValue': 8517957, 'unexercisedValue': 202075632}, {'maxAge': 1, 'name': 'Mr. Xiaotong  Zhu', 'age': 44, 'title': 'Senior Vice President of Automotive', 'yearBorn': 1980, 'fiscalYear': 2023, 'totalPay': 926877, 'exercisedValue': 0, 'unexercisedValue': 344144320}, {'maxAge': 1, 'name': 'Travis  Axelrod', 'title': 'Head of Investor Relations', 'fiscalYear': 2023, 'exercisedValue': 0, 'unexercisedValue': 0}, {'maxAge': 1, 'name': 'Brian  Scelfo', 'title': 'Senior Director of Corporate Development', 'fiscalYear': 2023, 'exercisedValue': 0, 'unexercisedValue': 0}, {'maxAge': 1, 'name': 'Mr. Franz  von Holzhausen', 'title': 'Chief Designer', 'fiscalYear': 2023, 'exercisedValue': 0, 'unexercisedValue': 0}, {'maxAge': 1, 'name': 'Mr. John  Walker', 'age': 61, 'title': 'Vice President of Sales - North America', 'yearBorn': 1963, 'fiscalYear': 2023, 'totalPay': 121550, 'exercisedValue': 0, 'unexercisedValue': 0}, {'maxAge': 1, 'name': 'Mr. Peter  Bannon', 'title': 'Chip Architect', 'fiscalYear': 2023, 'exercisedValue': 0, 'unexercisedValue': 0}, {'maxAge': 1, 'name': 'Mr. Turner  Caldwell', 'title': 'Engineering Manager', 'fiscalYear': 2023, 'exercisedValue': 0, 'unexercisedValue': 0}, {'maxAge': 1, 'name': 'Mr. Rodney D. Westmoreland Jr.', 'title': 'Director of Construction Management', 'fiscalYear': 2023, 'exercisedValue': 0, 'unexercisedValue': 0}], 'auditRisk': 5, 'boardRisk': 9, 'compensationRisk': 10, 'shareHolderRightsRisk': 9, 'overallRisk': 10, 'governanceEpochDate': 1740787200, 'compensationAsOfEpochDate': 1703980800, 'executiveTeam': [], 'maxAge': 86400, 'priceHint': 2, 'previousClose': 273.13, 'open': 275.5, 'dayLow': 260.58, 'dayHigh': 276.1, 'regularMarketPreviousClose': 273.13, 'regularMarketOpen': 275.5, 'regularMarketDayLow': 260.59, 'regularMarketDayHigh': 276.1, 'payoutRatio': 0.0, 'beta': 2.507, 'trailingPE': 129.82758, 'forwardPE': 81.34259, 'volume': 122381779, 'regularMarketVolume': 122381779, 'averageVolume': 95432981, 'averageVolume10days': 132862380, 'averageDailyVolume10Day': 132862380, 'bid': 263.47, 'ask': 263.6, 'bidSize': 1, 'askSize': 1, 'marketCap': 847713796096, 'fiftyTwoWeekLow': 138.8, 'fiftyTwoWeekHigh': 488.54, 'priceToSalesTrailing12Months': 8.67759, 'fiftyDayAverage': 322.4788, 'twoHundredDayAverage': 286.65094, 'trailingAnnualDividendRate': 0.0, 'trailingAnnualDividendYield': 0.0, 'currency': 'USD', 'tradeable': False, 'enterpriseValue': 825540083712, 'profitMargins': 0.07259, 'floatShares': 2799206117, 'sharesOutstanding': 3216519936, 'sharesShort': 81331870, 'sharesShortPriorMonth': 61498198, 'sharesShortPreviousMonthDate': 1739491200, 'dateShortInterest': 1741910400, 'sharesPercentSharesOut': 0.0253, 'heldPercentInsiders': 0.12886, 'heldPercentInstitutions': 0.49335, 'shortRatio': 0.78, 'shortPercentOfFloat': 0.029000001, 'impliedSharesOutstanding': 3216519936, 'bookValue': 22.672, 'priceToBook': 11.62447, 'lastFiscalYearEnd': 1735603200, 'nextFiscalYearEnd': 1767139200, 'mostRecentQuarter': 1735603200, 'earningsQuarterlyGrowth': -0.708, 'netIncomeToCommon': 7129999872, 'trailingEps': 2.03, 'forwardEps': 3.24, 'lastSplitFactor': '3:1', 'lastSplitDate': 1661385600, 'enterpriseToRevenue': 8.451, 'enterpriseToEbitda': 63.371, '52WeekChange': 0.50410914, 'SandP52WeekChange': 0.06429911, 'quoteType': 'EQUITY', 'currentPrice': 263.55, 'targetHighPrice': 550.0, 'targetLowPrice': 120.0, 'targetMeanPrice': 330.37732, 'targetMedianPrice': 325.0, 'recommendationMean': 2.61702, 'recommendationKey': 'hold', 'numberOfAnalystOpinions': 41, 'totalCash': 36563001344, 'totalCashPerShare': 11.367, 'ebitda': 13027000320, 'totalDebt': 13623000064, 'quickRatio': 1.427, 'currentRatio': 2.025, 'totalRevenue': 97690001408, 'debtToEquity': 18.489, 'revenuePerShare': 30.557, 'returnOnAssets': 0.04186, 'returnOnEquity': 0.1042, 'grossProfits': 17450000384, 'freeCashflow': -826875008, 'operatingCashflow': 14922999808, 'earningsGrowth': -0.709, 'revenueGrowth': 0.021, 'grossMargins': 0.17863001, 'ebitdaMargins': 0.13335, 'operatingMargins': 0.06158, 'financialCurrency': 'USD', 'symbol': 'TSLA', 'language': 'en-US', 'region': 'US', 'typeDisp': 'Equity', 'quoteSourceName': 'Nasdaq Real Time Price', 'triggerable': True, 'customPriceAlertConfidence': 'HIGH', 'marketState': 'CLOSED', 'shortName': 'Tesla, Inc.', 'longName': 'Tesla, Inc.', 'regularMarketChangePercent': -3.5074935, 'regularMarketPrice': 263.55, 'corporateActions': [], 'postMarketTime': 1743206399, 'regularMarketTime': 1743192000, 'exchange': 'NMS', 'messageBoardId': 'finmb_27444752', 'exchangeTimezoneName': 'America/New_York', 'exchangeTimezoneShortName': 'EDT', 'gmtOffSetMilliseconds': -14400000, 'market': 'us_market', 'esgPopulated': False, 'cryptoTradeable': False, 'hasPrePostMarketData': True, 'firstTradeDateMilliseconds': 1277818200000, 'postMarketChangePercent': -1.30146, 'postMarketPrice': 260.12, 'postMarketChange': -3.42999, 'regularMarketChange': -9.580017, 'regularMarketDayRange': '260.59 - 276.1', 'fullExchangeName': 'NasdaqGS', 'averageDailyVolume3Month': 95432981, 'fiftyTwoWeekLowChange': 124.749985, 'fiftyTwoWeekLowChangePercent': 0.8987751, 'fiftyTwoWeekRange': '138.8 - 488.54', 'fiftyTwoWeekHighChange': -224.99002, 'fiftyTwoWeekHighChangePercent': -0.4605355, 'fiftyTwoWeekChangePercent': 50.410915, 'earningsTimestamp': 1738184940, 'earningsTimestampStart': 1745438400, 'earningsTimestampEnd': 1746302400, 'earningsCallTimestampStart': 1738189800, 'earningsCallTimestampEnd': 1738189800, 'isEarningsDateEstimate': True, 'epsTrailingTwelveMonths': 2.03, 'epsForward': 3.24, 'epsCurrentYear': 2.64111, 'priceEpsCurrentYear': 99.78759, 'fiftyDayAverageChange': -58.928802, 'fiftyDayAverageChangePercent': -0.182737, 'twoHundredDayAverageChange': -23.100952, 'twoHundredDayAverageChangePercent': -0.08058914, 'sourceInterval': 15, 'exchangeDataDelayedBy': 0, 'averageAnalystRating': '2.6 - Hold', 'displayName': 'Tesla', 'trailingPegRatio': 3.2021}\", is_error=False), return_direct=False), ToolCallResult(tool_name='multiply', tool_kwargs={'a': 263.55, 'b': 10}, tool_id='call_rcCsmmP7gT1SeP9sjWDmIikC', tool_output=ToolOutput(content='2635.5', tool_name='multiply', raw_input={'args': (), 'kwargs': {'a': 263.55, 'b': 10}}, raw_output=2635.5, is_error=False), return_direct=False)], raw={'id': 'chatcmpl-BGISNDkkRmrFBrPvPZPM609oc7imD', 'choices': [{'delta': {'content': None, 'function_call': None, 'refusal': None, 'role': None, 'tool_calls': None}, 'finish_reason': 'stop', 'index': 0, 'logprobs': None}], 'created': 1743223895, 'model': 'gpt-4o-mini-2024-07-18', 'object': 'chat.completion.chunk', 'service_tier': 'default', 'system_fingerprint': 'fp_86d0290411', 'usage': None}, current_agent_name='Agent')"
            ]
          },
          "metadata": {},
          "execution_count": 47
        }
      ]
    },
    {
      "cell_type": "markdown",
      "source": [
        "#### Note About Finance Agent Output\n",
        "\n",
        "When working with the Yahoo Finance tools in LlamaIndex, you might notice that the response includes both:\n",
        "1. The human-readable answer (e.g., \"The current price of Apple stock is $217.90\")\n",
        "2. A detailed AgentOutput object with all the raw data and tool call information\n",
        "\n",
        "This is normal behavior and actually very useful for debugging and advanced use cases. For educational purposes, we'll focus on the human-readable part, but it's good to know that the full data is available if needed.\n",
        "\n",
        "If you want to extract just the human-readable text from the response for display in a real application, you would need to parse the response object structure. For this tutorial, we'll keep it simple and focus on the examples."
      ],
      "metadata": {
        "id": "-8KnF87uN-wc"
      }
    },
    {
      "cell_type": "code",
      "source": [
        "# Finance Agent Examples - Simplified to show just text responses\n",
        "print(\"\\n=== Financial Agent Examples ===\")\n",
        "\n",
        "# Simple stock price query\n",
        "print(\"Example 1: Basic stock price query\")\n",
        "response = await finance_workflow.run(user_msg=\"What is the current price of Apple stock?\")\n",
        "# Just print the first line for a cleaner display\n",
        "print(f\"Financial Assistant: {str(response).split('AgentOutput')[0].strip()}\")\n",
        "\n",
        "# Different stock for variety\n",
        "print(\"\\nExample 2: Different stock query\")\n",
        "response = await finance_workflow.run(user_msg=\"What is the current price of Microsoft stock?\")\n",
        "print(f\"Financial Assistant: {str(response).split('AgentOutput')[0].strip()}\")\n",
        "\n",
        "# Simple calculation based on stock price\n",
        "print(\"\\nExample 3: Stock value calculation\")\n",
        "response = await finance_workflow.run(user_msg=\"What would be the value of 10 shares of Tesla?\")\n",
        "print(f\"Financial Assistant: {str(response).split('AgentOutput')[0].strip()}\")"
      ],
      "metadata": {
        "colab": {
          "base_uri": "https://localhost:8080/"
        },
        "id": "D10lrm36OGhS",
        "outputId": "06810a1f-b0d6-4eb7-a257-3d8c706e7d77"
      },
      "execution_count": null,
      "outputs": [
        {
          "output_type": "stream",
          "name": "stdout",
          "text": [
            "\n",
            "=== Financial Agent Examples ===\n",
            "Example 1: Basic stock price query\n",
            "Financial Assistant: The current price of Apple stock (AAPL) is $217.90.\n",
            "\n",
            "Example 2: Different stock query\n",
            "Financial Assistant: The current price of Microsoft (MSFT) stock is $378.80.\n",
            "\n",
            "Example 3: Stock value calculation\n",
            "Financial Assistant: The value of 10 shares of Tesla (TSLA) is $2,635.50.\n"
          ]
        }
      ]
    },
    {
      "cell_type": "markdown",
      "source": [],
      "metadata": {
        "id": "zUMe-cVVJ-_x"
      }
    },
    {
      "cell_type": "markdown",
      "source": [
        "### 3.6 Advanced Finance Queries\n",
        "\n",
        "Now that we've seen basic stock price queries, let's explore more complex operations that combine financial data retrieval with calculations. These examples demonstrate the power of combining tools within a single agent."
      ],
      "metadata": {
        "id": "OvXBqa3CPmxz"
      }
    },
    {
      "cell_type": "code",
      "source": [
        "# Advanced Finance Query Examples\n",
        "print(\"\\n=== Advanced Financial Queries ===\")\n",
        "\n",
        "# Combining stock data with calculations\n",
        "print(\"Example 1: Calculating investment return\")\n",
        "response = await finance_workflow.run(user_msg=\"If I invest $1000 in Amazon stock, how many shares can I buy and what would their value be if the price increases by 10%?\")\n",
        "print(f\"Financial Assistant: {str(response).split('AgentOutput')[0].strip()}\")\n",
        "\n",
        "# Multiple stocks comparison\n",
        "print(\"\\nExample 2: Comparing dividend yields\")\n",
        "response = await finance_workflow.run(user_msg=\"Which has a higher dividend yield, Microsoft or Apple?\")\n",
        "print(f\"Financial Assistant: {str(response).split('AgentOutput')[0].strip()}\")\n",
        "\n",
        "# Financial metrics with calculations\n",
        "print(\"\\nExample 3: P/E ratio analysis\")\n",
        "response = await finance_workflow.run(user_msg=\"What would happen to Microsoft's P/E ratio if its price decreased by 15%?\")\n",
        "print(f\"Financial Assistant: {str(response).split('AgentOutput')[0].strip()}\")"
      ],
      "metadata": {
        "colab": {
          "base_uri": "https://localhost:8080/"
        },
        "id": "zFVacjoVPoHx",
        "outputId": "01ea73d1-144f-47b8-d3c1-c7ef80e56153"
      },
      "execution_count": null,
      "outputs": [
        {
          "output_type": "stream",
          "name": "stdout",
          "text": [
            "\n",
            "=== Advanced Financial Queries ===\n",
            "Example 1: Calculating investment return\n",
            "Financial Assistant: If you invest $1000 in Amazon stock at the current price of $192.72, you can buy approximately **5.19 shares**. \n",
            "\n",
            "If the price increases by 10%, the new price would be approximately **$211.99**. The total value of your shares at that price would be approximately **$1,099.95** (5.19 shares × $211.99).\n",
            "\n",
            "Example 2: Comparing dividend yields\n",
            "Financial Assistant: The dividend yields for Microsoft and Apple are as follows:\n",
            "\n",
            "- **Microsoft (MSFT)**: 0.88%\n",
            "- **Apple (AAPL)**: 0.46%\n",
            "\n",
            "**Conclusion**: Microsoft has a higher dividend yield compared to Apple.\n",
            "\n",
            "Example 3: P/E ratio analysis\n",
            "Financial Assistant: If Microsoft's stock price decreased by 15%, the new price would be approximately $321.98. Given the current earnings per share (EPS) of $12.42, the new P/E ratio would be approximately 25.92. \n",
            "\n",
            "This represents a decrease in the P/E ratio compared to the current P/E ratio of about 30.50.\n"
          ]
        }
      ]
    },
    {
      "cell_type": "markdown",
      "source": [
        "### 3.7 Interactive chat session with follow-up questions\n",
        "\n"
      ],
      "metadata": {
        "id": "zLGnsu6KPyei"
      }
    },
    {
      "cell_type": "code",
      "source": [
        "# to start an interactive chat session:\n",
        "await finance_chat_with_memory()"
      ],
      "metadata": {
        "colab": {
          "base_uri": "https://localhost:8080/"
        },
        "id": "tzCRTHNOP9YS",
        "outputId": "00bbeb49-42d1-4e17-9889-4325f59220b2"
      },
      "execution_count": null,
      "outputs": [
        {
          "output_type": "stream",
          "name": "stdout",
          "text": [
            "💰 Financial Assistant Chat! Type 'exit' to quit.\n",
            "You: Which has a higher dividend yield, Microsoft or Apple?\n",
            "💰 Financial Assistant: The dividend yields for Microsoft and Apple are as follows:\n",
            "\n",
            "- **Microsoft (MSFT)**: Dividend Yield = **0.88%**\n",
            "- **Apple (AAPL)**: Dividend Yield = **0.46%**\n",
            "\n",
            "Therefore, Microsoft has a higher dividend yield compared to Apple.\n",
            "\n",
            "You: If I invest $1000 in Amazon stock, how many shares can I buy and what would their value be if the price increases by 10%?\n",
            "💰 Financial Assistant: If you invest $1000 in Amazon stock at the current price of $192.72, you can buy approximately **5 shares** (since you can't purchase a fraction of a share).\n",
            "\n",
            "If the price increases by 10%, the new price would be approximately **$211.99** per share. Therefore, the total value of your investment would be:\n",
            "\n",
            "- **5 shares x $211.99 = $1059.95**. \n",
            "\n",
            "So, your investment would be worth **$1059.95** if the price increases by 10%.\n",
            "\n",
            "You: exit\n",
            "👋 Goodbye!\n"
          ]
        }
      ]
    },
    {
      "cell_type": "markdown",
      "source": [
        "### 3.8 Financial Data Analysis Examples\n",
        "\n",
        "Let's explore some examples of how our financial agent can be used for data analysis tasks beyond simple queries:\n",
        "\n",
        "1. **Comparative Analysis**: Comparing metrics across companies\n",
        "2. **Portfolio Evaluation**: Calculating the value and performance of multiple stocks\n",
        "3. **Trend Analysis**: Looking at how metrics change under different conditions\n",
        "\n",
        "These capabilities demonstrate how agents can support complex decision-making processes by combining data retrieval with analytical operations."
      ],
      "metadata": {
        "id": "iyvpgBGtSAJh"
      }
    },
    {
      "cell_type": "markdown",
      "source": [
        "### 3.9 Using the Financial Agent: Best Practices\n",
        "\n",
        "When working with the financial agent, keep these tips in mind:\n",
        "\n",
        "1. **Be specific with tickers**: Use stock tickers (AAPL, MSFT, GOOGL) for more reliable results\n",
        "2. **Combine queries and calculations**: The agent can both retrieve data and perform calculations on it\n",
        "3. **Ask about relationships**: The agent can compare stocks or metrics across companies\n",
        "4. **Start simple**: Begin with basic queries before asking complex multi-step questions\n",
        "5. **Use conversation memory**: For related follow-up questions, use the chat with memory function\n",
        "6. **Consider data freshness**: Stock prices and financial metrics change frequently, so results will vary\n",
        "\n",
        "The financial agent demonstrates a key advantage of the agent-based approach: combining specialized tools (Yahoo Finance data retrieval) with general capabilities (mathematical operations) in a seamless experience."
      ],
      "metadata": {
        "id": "jiMWjpggSJEq"
      }
    }
  ]
}