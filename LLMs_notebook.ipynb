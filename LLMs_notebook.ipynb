{
  "cells": [
    {
      "cell_type": "markdown",
      "metadata": {
        "id": "lR_x74oiuzuS"
      },
      "source": [
        "This notebook is designed to show some of the many different ways of leveraging the power of advanced models like OpenAI's ChatGPT through their APIs rather than simply a web interface.\n",
        "\n",
        "#### Requirements\n",
        "\n",
        "As this field is evolving at an extremely rapid pace (e.g. OpenAI has only recently deprecated several of their model endpoints), ensuring stability with such tools can be tricky. The following package versions below, __when run in a Colab environment__, yield consistent results."
      ]
    },
    {
      "cell_type": "code",
      "execution_count": null,
      "metadata": {
        "id": "Sth4Z_Z9Q1zD"
      },
      "outputs": [],
      "source": [
        "%%capture\n",
        "!pip install langchain==0.3.8 \\\n",
        "langchain-openai==0.2.9 \\\n",
        "langchain-community==0.3.8 \\\n",
        "pypdf==5.1.0 \\\n",
        "chromadb==0.5.20 \\\n",
        "tiktoken==0.8.0 \\\n",
        "huggingface-hub[hf_transfer]==0.26.2 \\\n",
        "ctransformers[cuda]==0.2.27 \\\n",
        "diffusers==0.31.0 \\\n",
        "llama-cpp-python==0.3.2 \\\n",
        "openai==1.55.3 \\\n",
        "httpx==0.27.2 \\\n",
        "hf_transfer \\\n",
        "\"protobuf<5.0.0\""
      ]
    },
    {
      "cell_type": "markdown",
      "metadata": {},
      "source": [
        "This line below is added after pip install in Google Colab to force a restart, so that newly installed packages are available right away."
      ]
    },
    {
      "cell_type": "code",
      "execution_count": null,
      "metadata": {
        "id": "L1ytxX545uJ4"
      },
      "outputs": [],
      "source": [
        "import os\n",
        "os.kill(os.getpid(), 9)"
      ]
    },
    {
      "cell_type": "markdown",
      "metadata": {
        "id": "8eOPwZstuzuV"
      },
      "source": [
        "#### OpenAI API key"
      ]
    },
    {
      "cell_type": "markdown",
      "metadata": {
        "id": "HNlIv1STuzuV"
      },
      "source": [
        "Additionally, you will need an OpenAI API key to run many of the below examples. You can sign up for one [here](https://openai.com/blog/openai-api). The examples presented here will cost only a few cents to run!"
      ]
    },
    {
      "cell_type": "markdown",
      "metadata": {},
      "source": [
        "Please create your own key and replace it below ;)"
      ]
    },
    {
      "cell_type": "code",
      "execution_count": null,
      "metadata": {
        "id": "T_mJN775uzuV"
      },
      "outputs": [],
      "source": [
        "openai_api_key = ''"
      ]
    },
    {
      "cell_type": "markdown",
      "metadata": {
        "id": "9vh8CJJcuzuW"
      },
      "source": [
        "### Prompt engineering:\n",
        "\n",
        "Some key points:\n",
        "\n",
        "- Using role-playing\n",
        "- Being specific in the task\n",
        "- Highlighting inputs and specifying outputs"
      ]
    },
    {
      "cell_type": "markdown",
      "metadata": {
        "id": "2qpEFFMkuzuW"
      },
      "source": [
        "### 1. Using the OpenAI API"
      ]
    },
    {
      "cell_type": "code",
      "execution_count": 5,
      "metadata": {
        "id": "Yvse2CzgQLMh"
      },
      "outputs": [],
      "source": [
        "# Initialize the OpenAI API client and set your API key\n",
        "\n",
        "import openai\n",
        "\n",
        "openai.api_key = openai_api_key"
      ]
    },
    {
      "cell_type": "code",
      "execution_count": 6,
      "metadata": {
        "id": "wsEorYryQS4F"
      },
      "outputs": [],
      "source": [
        "# Prompt for the AI model\n",
        "prompt = \"Translate the following English text to French: 'Hello, how are you?'\"\n",
        "\n",
        "# Make a request to the API to generate text\n",
        "# This line below starts the process of asking ChatGPT a question (a \"chat completion\").\n",
        "response = openai.chat.completions.create(\n",
        "    model=\"gpt-3.5-turbo\",  # Use the engine of your choice\n",
        "    messages = [{\"role\": \"user\", \"content\": prompt}],\n",
        "    max_tokens = 50\n",
        ")"
      ]
    },
    {
      "cell_type": "code",
      "execution_count": 7,
      "metadata": {},
      "outputs": [
        {
          "data": {
            "text/plain": [
              "ChatCompletion(id='chatcmpl-BFmVsTdzNiddEnqfK1xn1HbEuooaa', choices=[Choice(finish_reason='stop', index=0, logprobs=None, message=ChatCompletionMessage(content=\"'Salut, comment ça va?'\", refusal=None, role='assistant', annotations=[], audio=None, function_call=None, tool_calls=None))], created=1743101104, model='gpt-3.5-turbo-0125', object='chat.completion', service_tier='default', system_fingerprint=None, usage=CompletionUsage(completion_tokens=9, prompt_tokens=22, total_tokens=31, completion_tokens_details=CompletionTokensDetails(accepted_prediction_tokens=0, audio_tokens=0, reasoning_tokens=0, rejected_prediction_tokens=0), prompt_tokens_details=PromptTokensDetails(audio_tokens=0, cached_tokens=0)))"
            ]
          },
          "execution_count": 7,
          "metadata": {},
          "output_type": "execute_result"
        }
      ],
      "source": [
        "response # This is the full result returned by OpenAI when you call the ChatGPT API. It contains a lot of information, including:\n",
        "# the response text, token usage, model details, and possibly multiple response \"choices\"."
      ]
    },
    {
      "cell_type": "code",
      "execution_count": 9,
      "metadata": {
        "colab": {
          "base_uri": "https://localhost:8080/",
          "height": 35
        },
        "id": "PdWsySIpuzuX",
        "outputId": "8f1be978-81ce-4167-d61b-17c1d9917ec5"
      },
      "outputs": [
        {
          "data": {
            "text/plain": [
              "\"'Salut, comment ça va?'\""
            ]
          },
          "execution_count": 9,
          "metadata": {},
          "output_type": "execute_result"
        }
      ],
      "source": [
        "response.choices[0].message.content"
      ]
    },
    {
      "cell_type": "markdown",
      "metadata": {
        "id": "GyEbzFm6uzuX"
      },
      "source": [
        "#### System prompts"
      ]
    },
    {
      "cell_type": "markdown",
      "metadata": {},
      "source": [
        "In ChatGPT's API, the system prompt is a special message that lets you instruct or guide the AI’s behavior before the conversation starts.\n",
        "\n",
        "It sets the tone, role, personality, or boundaries for how ChatGPT should respond."
      ]
    },
    {
      "cell_type": "code",
      "execution_count": 6,
      "metadata": {
        "id": "RluOi0u2QYc2"
      },
      "outputs": [],
      "source": [
        "# Prompt for the AI model\n",
        "system_prompt = \"You are a sassy culinary instructor that gives sarcastic replies\"\n",
        "prompt = \"Give instructions to cook vegetable samosas\"\n",
        "\n",
        "# Make a request to the API to generate text\n",
        "response = openai.chat.completions.create(\n",
        "    model=\"gpt-3.5-turbo\",  # Use the engine of your choice\n",
        "    messages = [{\"role\": \"system\", \"content\": system_prompt},\n",
        "                {\"role\": \"user\", \"content\": prompt}],\n",
        "    max_tokens = 50\n",
        ")"
      ]
    },
    {
      "cell_type": "code",
      "execution_count": 7,
      "metadata": {
        "colab": {
          "base_uri": "https://localhost:8080/",
          "height": 53
        },
        "id": "djVLSsS1uzuX",
        "outputId": "46c1b496-a686-4f5c-82d8-1b6277e7d558"
      },
      "outputs": [
        {
          "data": {
            "text/plain": [
              "'Oh, you want to tackle the mighty vegetable samosas, do you? Well, start by finely dicing your veggies, making sure to channel your inner perfectionist. Then, sauté them in a pan with some spices, because bland sam'"
            ]
          },
          "execution_count": 7,
          "metadata": {},
          "output_type": "execute_result"
        }
      ],
      "source": [
        "response.choices[0].message.content"
      ]
    },
    {
      "cell_type": "markdown",
      "metadata": {
        "id": "dJBPdaz6uzuX"
      },
      "source": [
        "#### Function calling"
      ]
    },
    {
      "cell_type": "markdown",
      "metadata": {
        "id": "6AgzW7AxuzuX"
      },
      "source": [
        "Imagine you have a python function:\n",
        "\n",
        "```python\n",
        "def get_current_weather(location, unit):\n",
        "    ### A request is made to an API with a specific format\n",
        "    ### returns some result\n",
        "```\n",
        "\n",
        "You want your user to write a question in natural language, and use that input to call the function to get the current weather."
      ]
    },
    {
      "cell_type": "code",
      "execution_count": 8,
      "metadata": {
        "id": "uS5DaXc2uzuY"
      },
      "outputs": [],
      "source": [
        "# Example user input\n",
        "user_question = \"I'm interested in the weather in Bozeman. I'm old-school so I like it in F?\""
      ]
    },
    {
      "cell_type": "markdown",
      "metadata": {},
      "source": [
        "This code is using GPT-4 to answer a question from a user. But here's the twist:\n",
        "\n",
        "*If the user's question is about the weather, ChatGPT is smart enough to say:\n",
        "\"Hmm, I should call a special tool (a **function**) that gets live weather info.\"*"
      ]
    },
    {
      "cell_type": "code",
      "execution_count": 9,
      "metadata": {
        "id": "CNE9ePH2Qbga"
      },
      "outputs": [],
      "source": [
        "# Use GPT to interpret the user's question\n",
        "# and return the function arguments\n",
        "completion = openai.chat.completions.create(\n",
        "    model=\"gpt-4\",\n",
        "    messages=[{\"role\": \"user\", \"content\": user_question}],\n",
        "    functions=[\n",
        "    {\n",
        "        \"name\": \"get_current_weather\",\n",
        "        \"description\": \"Get the current weather in a given location\",\n",
        "        \"parameters\": {\n",
        "            \"type\": \"object\",\n",
        "            \"properties\": {\n",
        "                \"location\": {\n",
        "                    \"type\": \"string\",\n",
        "                    \"description\": \"The city with its accompanying state, e.g. San Francisco, CA\",\n",
        "                },\n",
        "                \"unit\": {\"type\": \"string\",\n",
        "                         \"enum\": [\"celsius\", \"fahrenheit\"]},\n",
        "            },\n",
        "            \"required\": [\"location\"],\n",
        "        },\n",
        "    }\n",
        "],\n",
        "function_call=\"auto\",\n",
        ")"
      ]
    },
    {
      "cell_type": "markdown",
      "metadata": {},
      "source": [
        "✅ In simple terms:\n",
        "\n",
        "- You're teaching ChatGPT how to **use a tool** (a function) to get live weather.\n",
        "- ChatGPT decides **when** to use that tool.\n",
        "- It **fills in the blanks** like city and unit automatically from the user's question."
      ]
    },
    {
      "cell_type": "code",
      "execution_count": 10,
      "metadata": {
        "colab": {
          "base_uri": "https://localhost:8080/",
          "height": 35
        },
        "id": "_ZhzNK28uzuY",
        "outputId": "27d24ed3-4330-40c7-cd4f-53c65ee33550"
      },
      "outputs": [
        {
          "data": {
            "text/plain": [
              "'{\\n  \"location\": \"Bozeman, MT\",\\n  \"unit\": \"fahrenheit\"\\n}'"
            ]
          },
          "execution_count": 10,
          "metadata": {},
          "output_type": "execute_result"
        }
      ],
      "source": [
        "completion.choices[0].message.function_call.arguments"
      ]
    },
    {
      "cell_type": "markdown",
      "metadata": {
        "id": "OHLr_7R9uzuY"
      },
      "source": [
        "#### A worked-out example leveraging OpenAI and a local DataFrame"
      ]
    },
    {
      "cell_type": "code",
      "execution_count": 11,
      "metadata": {
        "colab": {
          "base_uri": "https://localhost:8080/",
          "height": 206
        },
        "id": "1hEU5T1NQe77",
        "outputId": "5e8bb280-2930-4535-ff21-fef2296f374f"
      },
      "outputs": [
        {
          "data": {
            "text/html": [
              "<div>\n",
              "<style scoped>\n",
              "    .dataframe tbody tr th:only-of-type {\n",
              "        vertical-align: middle;\n",
              "    }\n",
              "\n",
              "    .dataframe tbody tr th {\n",
              "        vertical-align: top;\n",
              "    }\n",
              "\n",
              "    .dataframe thead th {\n",
              "        text-align: right;\n",
              "    }\n",
              "</style>\n",
              "<table border=\"1\" class=\"dataframe\">\n",
              "  <thead>\n",
              "    <tr style=\"text-align: right;\">\n",
              "      <th></th>\n",
              "      <th>date</th>\n",
              "      <th>home_team</th>\n",
              "      <th>away_team</th>\n",
              "      <th>home_score</th>\n",
              "      <th>away_score</th>\n",
              "      <th>tournament</th>\n",
              "      <th>city</th>\n",
              "      <th>country</th>\n",
              "      <th>neutral</th>\n",
              "    </tr>\n",
              "  </thead>\n",
              "  <tbody>\n",
              "    <tr>\n",
              "      <th>0</th>\n",
              "      <td>1969-11-01</td>\n",
              "      <td>Italy</td>\n",
              "      <td>France</td>\n",
              "      <td>1</td>\n",
              "      <td>0</td>\n",
              "      <td>Euro</td>\n",
              "      <td>Novara</td>\n",
              "      <td>Italy</td>\n",
              "      <td>False</td>\n",
              "    </tr>\n",
              "    <tr>\n",
              "      <th>1</th>\n",
              "      <td>1969-11-01</td>\n",
              "      <td>Denmark</td>\n",
              "      <td>England</td>\n",
              "      <td>4</td>\n",
              "      <td>3</td>\n",
              "      <td>Euro</td>\n",
              "      <td>Aosta</td>\n",
              "      <td>Italy</td>\n",
              "      <td>True</td>\n",
              "    </tr>\n",
              "    <tr>\n",
              "      <th>2</th>\n",
              "      <td>1969-11-02</td>\n",
              "      <td>England</td>\n",
              "      <td>France</td>\n",
              "      <td>2</td>\n",
              "      <td>0</td>\n",
              "      <td>Euro</td>\n",
              "      <td>Turin</td>\n",
              "      <td>Italy</td>\n",
              "      <td>True</td>\n",
              "    </tr>\n",
              "    <tr>\n",
              "      <th>3</th>\n",
              "      <td>1969-11-02</td>\n",
              "      <td>Italy</td>\n",
              "      <td>Denmark</td>\n",
              "      <td>3</td>\n",
              "      <td>1</td>\n",
              "      <td>Euro</td>\n",
              "      <td>Turin</td>\n",
              "      <td>Italy</td>\n",
              "      <td>False</td>\n",
              "    </tr>\n",
              "    <tr>\n",
              "      <th>4</th>\n",
              "      <td>1970-07-06</td>\n",
              "      <td>England</td>\n",
              "      <td>West Germany</td>\n",
              "      <td>5</td>\n",
              "      <td>1</td>\n",
              "      <td>World Cup</td>\n",
              "      <td>Genova</td>\n",
              "      <td>Italy</td>\n",
              "      <td>True</td>\n",
              "    </tr>\n",
              "  </tbody>\n",
              "</table>\n",
              "</div>"
            ],
            "text/plain": [
              "        date home_team     away_team  home_score  away_score tournament  \\\n",
              "0 1969-11-01     Italy        France           1           0       Euro   \n",
              "1 1969-11-01   Denmark       England           4           3       Euro   \n",
              "2 1969-11-02   England        France           2           0       Euro   \n",
              "3 1969-11-02     Italy       Denmark           3           1       Euro   \n",
              "4 1970-07-06   England  West Germany           5           1  World Cup   \n",
              "\n",
              "     city country  neutral  \n",
              "0  Novara   Italy    False  \n",
              "1   Aosta   Italy     True  \n",
              "2   Turin   Italy     True  \n",
              "3   Turin   Italy    False  \n",
              "4  Genova   Italy     True  "
            ]
          },
          "execution_count": 11,
          "metadata": {},
          "output_type": "execute_result"
        }
      ],
      "source": [
        "import pandas as pd\n",
        "import json\n",
        "\n",
        "df = pd.read_csv(\"data/results.csv\")\n",
        "\n",
        "df[\"date\"] = pd.to_datetime(df[\"date\"])\n",
        "df.head()"
      ]
    },
    {
      "cell_type": "markdown",
      "metadata": {
        "id": "CJMg-LP5uzuY"
      },
      "source": [
        "Write a function to retrieve specified data: all matches in a country from the starting year to the end year:"
      ]
    },
    {
      "cell_type": "code",
      "execution_count": 12,
      "metadata": {
        "id": "AJK0Jv6suzuY"
      },
      "outputs": [],
      "source": [
        "def matches_finder(country: str, start_year: int, end_year: int):\n",
        "    return df.loc[\n",
        "        (df[\"country\"] == country) &\n",
        "        (start_year <= df[\"date\"].dt.year) &\n",
        "        (df[\"date\"].dt.year <= end_year)\n",
        "    ]"
      ]
    },
    {
      "cell_type": "markdown",
      "metadata": {
        "id": "7-W6ApxAuzuY"
      },
      "source": [
        "In the cell below, we describe a function that might be used to query our DataFrame. Feel free to change the `\"user\"` prompt in the `messages` list."
      ]
    },
    {
      "cell_type": "code",
      "execution_count": 13,
      "metadata": {
        "id": "GPaWXnWkQguY"
      },
      "outputs": [],
      "source": [
        "query = \"Tell me about matches that took place in Italy between 1980 up until the end of the 20th century\"\n",
        "\n",
        "completion = openai.chat.completions.create(\n",
        "    model=\"gpt-4-0613\",\n",
        "    messages=[{\"role\": \"user\", \"content\": query}],\n",
        "    functions=[\n",
        "    {\n",
        "        \"name\": \"get_matches\",\n",
        "        \"description\": \"Return the rows in a DataFrame about women's football games which satisfy the criteria\",\n",
        "        \"parameters\": {\n",
        "            \"type\": \"object\",\n",
        "            \"properties\": {\n",
        "                \"country\": {\n",
        "                    \"type\": \"string\",\n",
        "                    \"description\": \"The name of the country the matches took place e.g. France or China\",\n",
        "                },\n",
        "                \"start_year\": {\n",
        "                    \"type\": \"number\",\n",
        "                    \"description\": \"The year to begin filtering from e.g. 1956\",\n",
        "                },\n",
        "                \"end_year\": {\n",
        "                    \"type\": \"number\",\n",
        "                    \"description\": \"The year to end filtering on e.g. 2005\"}\n",
        "            },\n",
        "            \"required\": [\"location\", \"start_year\", \"end_year\"],\n",
        "        },\n",
        "    }\n",
        "],\n",
        "function_call=\"auto\",\n",
        ")"
      ]
    },
    {
      "cell_type": "markdown",
      "metadata": {
        "id": "fuWIVeAAuzuZ"
      },
      "source": [
        "Converting the response to something we can pass into a locally defined function."
      ]
    },
    {
      "cell_type": "code",
      "execution_count": 14,
      "metadata": {
        "colab": {
          "base_uri": "https://localhost:8080/"
        },
        "id": "aaQ_GsVWQi3n",
        "outputId": "164c2be9-068c-480a-ce09-c9b909b2653b"
      },
      "outputs": [
        {
          "data": {
            "text/plain": [
              "{'country': 'Italy', 'start_year': 1980, 'end_year': 1999}"
            ]
          },
          "execution_count": 14,
          "metadata": {},
          "output_type": "execute_result"
        }
      ],
      "source": [
        "args = json.loads(completion.choices[0].message.function_call.arguments)\n",
        "args"
      ]
    },
    {
      "cell_type": "markdown",
      "metadata": {
        "id": "WjH49hn7uzuZ"
      },
      "source": [
        "#### Using arguments from our OpenAI Function call to interact with our locally defined function/ DataFrame"
      ]
    },
    {
      "cell_type": "code",
      "execution_count": 15,
      "metadata": {
        "colab": {
          "base_uri": "https://localhost:8080/",
          "height": 597
        },
        "id": "Hqhd3Kp5uzuZ",
        "outputId": "f57786ed-8226-43dc-8821-2ba5b1d394ee"
      },
      "outputs": [
        {
          "data": {
            "text/html": [
              "<div>\n",
              "<style scoped>\n",
              "    .dataframe tbody tr th:only-of-type {\n",
              "        vertical-align: middle;\n",
              "    }\n",
              "\n",
              "    .dataframe tbody tr th {\n",
              "        vertical-align: top;\n",
              "    }\n",
              "\n",
              "    .dataframe thead th {\n",
              "        text-align: right;\n",
              "    }\n",
              "</style>\n",
              "<table border=\"1\" class=\"dataframe\">\n",
              "  <thead>\n",
              "    <tr style=\"text-align: right;\">\n",
              "      <th></th>\n",
              "      <th>date</th>\n",
              "      <th>home_team</th>\n",
              "      <th>away_team</th>\n",
              "      <th>home_score</th>\n",
              "      <th>away_score</th>\n",
              "      <th>tournament</th>\n",
              "      <th>city</th>\n",
              "      <th>country</th>\n",
              "      <th>neutral</th>\n",
              "    </tr>\n",
              "  </thead>\n",
              "  <tbody>\n",
              "    <tr>\n",
              "      <th>114</th>\n",
              "      <td>1982-11-14</td>\n",
              "      <td>Italy</td>\n",
              "      <td>Portugal</td>\n",
              "      <td>3</td>\n",
              "      <td>0</td>\n",
              "      <td>UEFA Euro qualification</td>\n",
              "      <td>Genoa</td>\n",
              "      <td>Italy</td>\n",
              "      <td>False</td>\n",
              "    </tr>\n",
              "    <tr>\n",
              "      <th>140</th>\n",
              "      <td>1983-04-24</td>\n",
              "      <td>Italy</td>\n",
              "      <td>France</td>\n",
              "      <td>3</td>\n",
              "      <td>0</td>\n",
              "      <td>UEFA Euro qualification</td>\n",
              "      <td>Vicenza</td>\n",
              "      <td>Italy</td>\n",
              "      <td>False</td>\n",
              "    </tr>\n",
              "    <tr>\n",
              "      <th>155</th>\n",
              "      <td>1983-09-17</td>\n",
              "      <td>Italy</td>\n",
              "      <td>Switzerland</td>\n",
              "      <td>2</td>\n",
              "      <td>0</td>\n",
              "      <td>UEFA Euro qualification</td>\n",
              "      <td>Rome</td>\n",
              "      <td>Italy</td>\n",
              "      <td>False</td>\n",
              "    </tr>\n",
              "    <tr>\n",
              "      <th>171</th>\n",
              "      <td>1984-04-08</td>\n",
              "      <td>Italy</td>\n",
              "      <td>Sweden</td>\n",
              "      <td>2</td>\n",
              "      <td>3</td>\n",
              "      <td>UEFA Euro</td>\n",
              "      <td>Rome</td>\n",
              "      <td>Italy</td>\n",
              "      <td>False</td>\n",
              "    </tr>\n",
              "    <tr>\n",
              "      <th>176</th>\n",
              "      <td>1984-08-19</td>\n",
              "      <td>Italy</td>\n",
              "      <td>West Germany</td>\n",
              "      <td>1</td>\n",
              "      <td>2</td>\n",
              "      <td>Mundialito</td>\n",
              "      <td>Caorle</td>\n",
              "      <td>Italy</td>\n",
              "      <td>False</td>\n",
              "    </tr>\n",
              "    <tr>\n",
              "      <th>...</th>\n",
              "      <td>...</td>\n",
              "      <td>...</td>\n",
              "      <td>...</td>\n",
              "      <td>...</td>\n",
              "      <td>...</td>\n",
              "      <td>...</td>\n",
              "      <td>...</td>\n",
              "      <td>...</td>\n",
              "      <td>...</td>\n",
              "    </tr>\n",
              "    <tr>\n",
              "      <th>800</th>\n",
              "      <td>1995-10-21</td>\n",
              "      <td>Italy</td>\n",
              "      <td>Croatia</td>\n",
              "      <td>7</td>\n",
              "      <td>0</td>\n",
              "      <td>UEFA Euro qualification</td>\n",
              "      <td>Verona</td>\n",
              "      <td>Italy</td>\n",
              "      <td>False</td>\n",
              "    </tr>\n",
              "    <tr>\n",
              "      <th>835</th>\n",
              "      <td>1996-03-16</td>\n",
              "      <td>Italy</td>\n",
              "      <td>England</td>\n",
              "      <td>2</td>\n",
              "      <td>1</td>\n",
              "      <td>UEFA Euro qualification</td>\n",
              "      <td>Cosenza</td>\n",
              "      <td>Italy</td>\n",
              "      <td>False</td>\n",
              "    </tr>\n",
              "    <tr>\n",
              "      <th>845</th>\n",
              "      <td>1996-04-07</td>\n",
              "      <td>Italy</td>\n",
              "      <td>Portugal</td>\n",
              "      <td>4</td>\n",
              "      <td>1</td>\n",
              "      <td>UEFA Euro qualification</td>\n",
              "      <td>Mestre</td>\n",
              "      <td>Italy</td>\n",
              "      <td>False</td>\n",
              "    </tr>\n",
              "    <tr>\n",
              "      <th>1157</th>\n",
              "      <td>1999-10-13</td>\n",
              "      <td>Italy</td>\n",
              "      <td>Ukraine</td>\n",
              "      <td>1</td>\n",
              "      <td>0</td>\n",
              "      <td>UEFA Euro qualification</td>\n",
              "      <td>Castelfranco di Sotto</td>\n",
              "      <td>Italy</td>\n",
              "      <td>False</td>\n",
              "    </tr>\n",
              "    <tr>\n",
              "      <th>1187</th>\n",
              "      <td>1999-11-11</td>\n",
              "      <td>Italy</td>\n",
              "      <td>Germany</td>\n",
              "      <td>4</td>\n",
              "      <td>4</td>\n",
              "      <td>UEFA Euro qualification</td>\n",
              "      <td>Isernia</td>\n",
              "      <td>Italy</td>\n",
              "      <td>False</td>\n",
              "    </tr>\n",
              "  </tbody>\n",
              "</table>\n",
              "<p>65 rows × 9 columns</p>\n",
              "</div>"
            ],
            "text/plain": [
              "           date home_team     away_team  home_score  away_score  \\\n",
              "114  1982-11-14     Italy      Portugal           3           0   \n",
              "140  1983-04-24     Italy        France           3           0   \n",
              "155  1983-09-17     Italy   Switzerland           2           0   \n",
              "171  1984-04-08     Italy        Sweden           2           3   \n",
              "176  1984-08-19     Italy  West Germany           1           2   \n",
              "...         ...       ...           ...         ...         ...   \n",
              "800  1995-10-21     Italy       Croatia           7           0   \n",
              "835  1996-03-16     Italy       England           2           1   \n",
              "845  1996-04-07     Italy      Portugal           4           1   \n",
              "1157 1999-10-13     Italy       Ukraine           1           0   \n",
              "1187 1999-11-11     Italy       Germany           4           4   \n",
              "\n",
              "                   tournament                   city country  neutral  \n",
              "114   UEFA Euro qualification                  Genoa   Italy    False  \n",
              "140   UEFA Euro qualification                Vicenza   Italy    False  \n",
              "155   UEFA Euro qualification                   Rome   Italy    False  \n",
              "171                 UEFA Euro                   Rome   Italy    False  \n",
              "176                Mundialito                 Caorle   Italy    False  \n",
              "...                       ...                    ...     ...      ...  \n",
              "800   UEFA Euro qualification                 Verona   Italy    False  \n",
              "835   UEFA Euro qualification                Cosenza   Italy    False  \n",
              "845   UEFA Euro qualification                 Mestre   Italy    False  \n",
              "1157  UEFA Euro qualification  Castelfranco di Sotto   Italy    False  \n",
              "1187  UEFA Euro qualification                Isernia   Italy    False  \n",
              "\n",
              "[65 rows x 9 columns]"
            ]
          },
          "execution_count": 15,
          "metadata": {},
          "output_type": "execute_result"
        }
      ],
      "source": [
        "matches_finder(**args)"
      ]
    },
    {
      "cell_type": "markdown",
      "metadata": {
        "id": "Tln2Rqk3uzuZ"
      },
      "source": [
        "## RAG\n",
        "\n",
        "<img src=\"https://github.com/toelt-llc/HSLU-NLP-Bootcamp/blob/main/GenAI/pics/lchain.png?raw=1\" width=\"600\"/>"
      ]
    },
    {
      "cell_type": "markdown",
      "metadata": {
        "id": "G1wvch98uzua"
      },
      "source": [
        "### Working with embeddings and larger documents"
      ]
    },
    {
      "cell_type": "code",
      "execution_count": 16,
      "metadata": {
        "colab": {
          "base_uri": "https://localhost:8080/"
        },
        "id": "KIxd3ZoyQlJ_",
        "outputId": "3346ecd3-b8e5-4c86-90f0-806c99db49a9"
      },
      "outputs": [
        {
          "name": "stdout",
          "output_type": "stream",
          "text": [
            "(1536,)\n"
          ]
        }
      ],
      "source": [
        "# Creating embeddings\n",
        "model = \"text-embedding-ada-002\"\n",
        "\n",
        "embedding = openai.embeddings.create(input=[\"\"\"This is a simple embedding of a sentence\"\"\"],\n",
        "                                     model=model)\n",
        "\n",
        "# How large are the embeddings we got?\n",
        "\n",
        "import numpy as np\n",
        "\n",
        "# Access the embedding data using the 'embeddings' attribute\n",
        "embedding_data = embedding.data[0].embedding\n",
        "\n",
        "# Convert the embedding data to a NumPy array\n",
        "embedding_array = np.array(embedding_data)\n",
        "\n",
        "# Get the shape of the embedding array\n",
        "embedding_shape = embedding_array.shape\n",
        "\n",
        "# Print the shape\n",
        "print(embedding_shape)"
      ]
    },
    {
      "cell_type": "markdown",
      "metadata": {
        "id": "-rTo7vrtuzua"
      },
      "source": [
        "Here, we download a book in PDF form that we can then use Langchain's document loader to prepare it for embedding"
      ]
    },
    {
      "cell_type": "code",
      "execution_count": 17,
      "metadata": {
        "colab": {
          "base_uri": "https://localhost:8080/"
        },
        "id": "bxglzYZUQq7p",
        "outputId": "90e43879-de44-41d8-fdfd-6a7967b74f4e"
      },
      "outputs": [
        {
          "name": "stdout",
          "output_type": "stream",
          "text": [
            "--2025-03-27 13:19:06--  https://greenteapress.com/thinkpython2/thinkpython2.pdf\n",
            "Resolving greenteapress.com (greenteapress.com)... 67.205.24.128\n",
            "Connecting to greenteapress.com (greenteapress.com)|67.205.24.128|:443... connected.\n",
            "HTTP request sent, awaiting response... 200 OK\n",
            "Length: 921415 (900K) [application/pdf]\n",
            "Saving to: ‘book.pdf’\n",
            "\n",
            "book.pdf            100%[===================>] 899.82K   860KB/s    in 1.0s    \n",
            "\n",
            "2025-03-27 13:19:08 (860 KB/s) - ‘book.pdf’ saved [921415/921415]\n",
            "\n"
          ]
        }
      ],
      "source": [
        "! wget -O book.pdf \"https://greenteapress.com/thinkpython2/thinkpython2.pdf\""
      ]
    },
    {
      "cell_type": "code",
      "execution_count": 21,
      "metadata": {
        "id": "bZ1z1Q4Fuzub"
      },
      "outputs": [],
      "source": [
        "from langchain.document_loaders import PyPDFLoader # Changed import statement\n",
        "\n",
        "loader = PyPDFLoader(\"book.pdf\")\n",
        "\n",
        "data = loader.load()"
      ]
    },
    {
      "cell_type": "markdown",
      "metadata": {
        "id": "bd4ZB09Guzub"
      },
      "source": [
        "To work with a large document, we need to split it into smaller chunks with one of Langchain's `text_splitter`s"
      ]
    },
    {
      "cell_type": "code",
      "execution_count": 22,
      "metadata": {
        "colab": {
          "base_uri": "https://localhost:8080/"
        },
        "id": "0RidHZlouzub",
        "outputId": "f1571924-796b-4a23-ed16-733a746ca4d3"
      },
      "outputs": [
        {
          "name": "stdout",
          "output_type": "stream",
          "text": [
            "You have 244 documents in your data\n",
            "There are ~1820.1311475409836 characters per document\n"
          ]
        }
      ],
      "source": [
        "import numpy as np\n",
        "\n",
        "print (f'You have {len(data)} documents in your data')\n",
        "print (f'''There are ~{np.mean([len(x.page_content) for x in data])} characters per document''')\n",
        "\n",
        "from langchain.text_splitter import RecursiveCharacterTextSplitter\n",
        "\n",
        "text_splitter = RecursiveCharacterTextSplitter(chunk_size=2000, chunk_overlap=400)\n",
        "\n",
        "texts = text_splitter.split_documents(data)"
      ]
    },
    {
      "cell_type": "markdown",
      "metadata": {
        "id": "9CBGHzM9uzub"
      },
      "source": [
        "Next, we embed our documents directly into an in-memory vector database:"
      ]
    },
    {
      "cell_type": "code",
      "execution_count": 25,
      "metadata": {
        "colab": {
          "base_uri": "https://localhost:8080/"
        },
        "id": "k2_2lQ6Ruzub",
        "outputId": "d2fd98b9-f6b7-417f-d56f-9d3c9a78769a"
      },
      "outputs": [],
      "source": [
        "from langchain.vectorstores import Chroma\n",
        "from langchain.embeddings.openai import OpenAIEmbeddings\n",
        "\n",
        "vector_db = Chroma.from_documents(texts,\n",
        "                                  OpenAIEmbeddings(openai_api_key = openai_api_key,\n",
        "                                                   model=\"text-embedding-ada-002\"))"
      ]
    },
    {
      "cell_type": "markdown",
      "metadata": {
        "id": "1y3lVFLVuzub"
      },
      "source": [
        "<img src=\"https://github.com/toelt-llc/HSLU-NLP-Bootcamp/blob/main/GenAI/pics/biencoder-diagram.png?raw=1\" width=\"600\"/>\n"
      ]
    },
    {
      "cell_type": "markdown",
      "metadata": {
        "id": "Tk6wtvkHuzub"
      },
      "source": [
        "We can then embed a sentence (e.g. a question) and see which of our texts are most similar to it."
      ]
    },
    {
      "cell_type": "code",
      "execution_count": 26,
      "metadata": {
        "colab": {
          "base_uri": "https://localhost:8080/"
        },
        "id": "eDBqpyD2uzuc",
        "outputId": "37c92ea6-5a1a-493d-befd-daaee6fc0bb7"
      },
      "outputs": [
        {
          "name": "stdout",
          "output_type": "stream",
          "text": [
            "\n",
            " ~~~~~ Showing document #1 ~~~~~ \n",
            "\n",
            "148 Chapter 15. Classes and objects\n",
            "x\n",
            "y\n",
            "3.0\n",
            "4.0\n",
            "blank\n",
            "Point\n",
            "Figure 15.1: Object diagram.\n",
            "The header indicates that the new class is called Point. The body is a docstring that ex-\n",
            "plains what the class is for. You can deﬁne variables and methods inside a class deﬁnition,\n",
            "but we will get back to that later.\n",
            "Deﬁning a class named Point creates a class object.\n",
            ">>> Point\n",
            "<class '__main__.Point'>\n",
            "Because Point is deﬁned at the top level, its “full name” is __main__.Point.\n",
            "The class object is like a factory for creating objects. To create a Point, you callPoint as if it\n",
            "were a function.\n",
            ">>> blank = Point()\n",
            ">>> blank\n",
            "<__main__.Point object at 0xb7e9d3ac>\n",
            "The return value is a reference to a Point object, which we assign to blank.\n",
            "Creating a new object is called instantiation, and the object is an instance of the class.\n",
            "When you print an instance, Python tells you what class it belongs to and where it is stored\n",
            "in memory (the preﬁx 0x means that the following number is in hexadecimal).\n",
            "Every object is an instance of some class, so “object” and “instance” are interchangeable.\n",
            "But in this chapter I use “instance” to indicate that I am talking about a programmer-\n",
            "deﬁned type.\n",
            "15.2 Attributes\n",
            "You can assign values to an instance using dot notation:\n",
            ">>> blank.x = 3.0\n",
            ">>> blank.y = 4.0\n",
            "This syntax is similar to the syntax for selecting a variable from a module, such asmath.pi\n",
            "or string.whitespace. In this case, though, we are assigning values to named elements of\n",
            "an object. These elements are called attributes.\n",
            "As a noun, “AT-trib-ute” is pronounced with emphasis on the ﬁrst syllable, as opposed to\n",
            "“a-TRIB-ute”, which is a verb.\n",
            "Figure 15.1 is a state diagram that shows the result of these assignments. A state diagram\n",
            "that shows an object and its attributes is called an object diagram.\n",
            "The variable blank refers to a Point object, which contains two attributes. Each attribute\n",
            "refers to a ﬂoating-point number.\n",
            "You can read the value of an attribute using the same syntax:\n",
            "\n",
            " ~~~~~ Showing document #2 ~~~~~ \n",
            "\n",
            "178 Chapter 18. Inheritance\n",
            "Hand\n",
            "Deck * Card\n",
            "Figure 18.2: Class diagram.\n",
            "The arrow with a hollow triangle head represents an IS-A relationship; in this case it indi-\n",
            "cates that Hand inherits from Deck.\n",
            "The standard arrow head represents a HAS-A relationship; in this case a Deck has refer-\n",
            "ences to Card objects.\n",
            "The star (*) near the arrow head is amultiplicity; it indicates how many Cards a Deck has.\n",
            "A multiplicity can be a simple number, like 52, a range, like 5..7 or a star, which indicates\n",
            "that a Deck can have any number of Cards.\n",
            "There are no dependencies in this diagram. They would normally be shown with a dashed\n",
            "arrow. Or if there are a lot of dependencies, they are sometimes omitted.\n",
            "A more detailed diagram might show that a Deck actually contains a list of Cards, but\n",
            "built-in types like list and dict are usually not included in class diagrams.\n",
            "18.9 Debugging\n",
            "Inheritance can make debugging difﬁcult because when you invoke a method on an object,\n",
            "it might be hard to ﬁgure out which method will be invoked.\n",
            "Suppose you are writing a function that works with Hand objects. You would like it to\n",
            "work with all kinds of Hands, like PokerHands, BridgeHands, etc. If you invoke a method\n",
            "like shuffle, you might get the one deﬁned in Deck, but if any of the subclasses override\n",
            "this method, you’ll get that version instead. This behavior is usually a good thing, but it\n",
            "can be confusing.\n",
            "Any time you are unsure about the ﬂow of execution through your program, the sim-\n",
            "plest solution is to add print statements at the beginning of the relevant methods. If\n",
            "Deck.shuffle prints a message that says something like Running Deck.shuffle, then as\n",
            "the program runs it traces the ﬂow of execution.\n",
            "As an alternative, you could use this function, which takes an object and a method name\n",
            "(as a string) and returns the class that provides the deﬁnition of the method:\n",
            "def find_defining_class(obj, meth_name):\n",
            "for ty in type(obj).mro():\n",
            "if meth_name in ty.__dict__:\n",
            "return ty\n",
            "Here’s an example:\n",
            "\n",
            " ~~~~~ Showing document #3 ~~~~~ \n",
            "\n",
            "164 Chapter 17. Classes and methods\n",
            "The subject, start, gets assigned to the ﬁrst parameter, self. The argument, 1337, gets\n",
            "assigned to the second parameter, seconds.\n",
            "This mechanism can be confusing, especially if you make an error. For example, if you\n",
            "invoke increment with two arguments, you get:\n",
            ">>> end = start.increment(1337, 460)\n",
            "TypeError: increment() takes 2 positional arguments but 3 were given\n",
            "The error message is initially confusing, because there are only two arguments in paren-\n",
            "theses. But the subject is also considered an argument, so all together that’s three.\n",
            "By the way, a positional argument is an argument that doesn’t have a parameter name;\n",
            "that is, it is not a keyword argument. In this function call:\n",
            "sketch(parrot, cage, dead=True)\n",
            "parrot and cage are positional, and dead is a keyword argument.\n",
            "17.4 A more complicated example\n",
            "Rewriting is_after (from Section 16.1) is slightly more complicated because it takes two\n",
            "Time objects as parameters. In this case it is conventional to name the ﬁrst parameter self\n",
            "and the second parameter other:\n",
            "# inside class Time:\n",
            "def is_after(self, other):\n",
            "return self.time_to_int() > other.time_to_int()\n",
            "To use this method, you have to invoke it on one object and pass the other as an argument:\n",
            ">>> end.is_after(start)\n",
            "True\n",
            "One nice thing about this syntax is that it almost reads like English: “end is after start?”\n",
            "17.5 The init method\n",
            "The init method (short for “initialization”) is a special method that gets invoked when an\n",
            "object is instantiated. Its full name is __init__ (two underscore characters, followed by\n",
            "init, and then two more underscores). An init method for the Time class might look like\n",
            "this:\n",
            "# inside class Time:\n",
            "def __init__(self, hour=0, minute=0, second=0):\n",
            "self.hour = hour\n",
            "self.minute = minute\n",
            "self.second = second\n",
            "It is common for the parameters of__init__ to have the same names as the attributes. The\n",
            "statement\n",
            "self.hour = hour\n",
            "\n",
            " ~~~~~ Showing document #4 ~~~~~ \n",
            "\n",
            "They are also highly detailed; for some purposes, too detailed. A class diagram is a more\n",
            "abstract representation of the structure of a program. Instead of showing individual ob-\n",
            "jects, it shows classes and the relationships between them.\n",
            "There are several kinds of relationship between classes:\n",
            "• Objects in one class might contain references to objects in another class. For example,\n",
            "each Rectangle contains a reference to a Point, and each Deck contains references to\n",
            "many Cards. This kind of relationship is called HAS-A, as in, “a Rectangle has a\n",
            "Point.”\n",
            "• One class might inherit from another. This relationship is called IS-A, as in, “a Hand\n",
            "is a kind of a Deck.”\n",
            "• One class might depend on another in the sense that objects in one class take ob-\n",
            "jects in the second class as parameters, or use objects in the second class as part of a\n",
            "computation. This kind of relationship is called a dependency.\n",
            "A class diagram is a graphical representation of these relationships. For example, Fig-\n",
            "ure 18.2 shows the relationships between Card, Deck and Hand.\n",
            "\n",
            " ~~~~~ Showing document #5 ~~~~~ \n",
            "\n",
            "Preface\n",
            "The strange history of this book\n",
            "In January 1999 I was preparing to teach an introductory programming class in Java. I had\n",
            "taught it three times and I was getting frustrated. The failure rate in the class was too high\n",
            "and, even for students who succeeded, the overall level of achievement was too low.\n",
            "One of the problems I saw was the books. They were too big, with too much unnecessary\n",
            "detail about Java, and not enough high-level guidance about how to program. And they all\n",
            "suffered from the trap door effect: they would start out easy, proceed gradually, and then\n",
            "somewhere around Chapter 5 the bottom would fall out. The students would get too much\n",
            "new material, too fast, and I would spend the rest of the semester picking up the pieces.\n",
            "Two weeks before the ﬁrst day of classes, I decided to write my own book. My goals were:\n",
            "• Keep it short. It is better for students to read 10 pages than not read 50 pages.\n",
            "• Be careful with vocabulary. I tried to minimize jargon and deﬁne each term at ﬁrst\n",
            "use.\n",
            "• Build gradually. To avoid trap doors, I took the most difﬁcult topics and split them\n",
            "into a series of small steps.\n",
            "• Focus on programming, not the programming language. I included the minimum\n",
            "useful subset of Java and left out the rest.\n",
            "I needed a title, so on a whim I chose How to Think Like a Computer Scientist.\n",
            "My ﬁrst version was rough, but it worked. Students did the reading, and they understood\n",
            "enough that I could spend class time on the hard topics, the interesting topics and (most\n",
            "important) letting the students practice.\n",
            "I released the book under the GNU Free Documentation License, which allows users to\n",
            "copy, modify, and distribute the book.\n",
            "What happened next is the cool part. Jeff Elkner, a high school teacher in Virginia, adopted\n",
            "my book and translated it into Python. He sent me a copy of his translation, and I had the\n",
            "unusual experience of learning Python by reading my own book. As Green Tea Press, I\n",
            "published the ﬁrst Python version in 2001.\n"
          ]
        }
      ],
      "source": [
        "# Querying the data\n",
        "query = \"How do I establish a Class?\"\n",
        "num_closest_docs = 5\n",
        "docs = vector_db.similarity_search(query, k = num_closest_docs)\n",
        "for k in range(num_closest_docs):\n",
        "    print(f\"\"\"\\n ~~~~~ Showing document #{k+1} ~~~~~ \\n\"\"\")\n",
        "    print(docs[k].page_content)"
      ]
    },
    {
      "cell_type": "markdown",
      "metadata": {
        "id": "nvpyrfNPuzuc"
      },
      "source": [
        "If we want, we can go further, passing this retrieved text as context for a prompt which we can then do question-answering on. Using `verbose = True` will allow you to see the chain of events taking place under the hood.\n",
        "\n",
        "With Langchain, these pre-defined prompts can be altered for whatever purpose necessary."
      ]
    },
    {
      "cell_type": "code",
      "execution_count": 27,
      "metadata": {
        "colab": {
          "base_uri": "https://localhost:8080/"
        },
        "id": "vRsj-sctuzuc",
        "outputId": "fe1bc970-e622-4a00-cc8b-5407382b5ab7"
      },
      "outputs": [
        {
          "name": "stderr",
          "output_type": "stream",
          "text": [
            "/tmp/ipykernel_36609/1849260753.py:4: LangChainDeprecationWarning: The class `OpenAI` was deprecated in LangChain 0.0.10 and will be removed in 1.0. An updated version of the class exists in the :class:`~langchain-openai package and should be used instead. To use it run `pip install -U :class:`~langchain-openai` and import as `from :class:`~langchain_openai import OpenAI``.\n",
            "  llm = OpenAI(temperature=0,\n",
            "/tmp/ipykernel_36609/1849260753.py:8: LangChainDeprecationWarning: This class is deprecated. See the following migration guides for replacements based on `chain_type`:\n",
            "stuff: https://python.langchain.com/docs/versions/migrating_chains/stuff_docs_chain\n",
            "map_reduce: https://python.langchain.com/docs/versions/migrating_chains/map_reduce_chain\n",
            "refine: https://python.langchain.com/docs/versions/migrating_chains/refine_chain\n",
            "map_rerank: https://python.langchain.com/docs/versions/migrating_chains/map_rerank_docs_chain\n",
            "\n",
            "See also guides on retrieval and question-answering here: https://python.langchain.com/docs/how_to/#qa-with-rag\n",
            "  chain = load_qa_chain(llm,\n"
          ]
        }
      ],
      "source": [
        "from langchain.llms import OpenAI\n",
        "from langchain.chains.question_answering import load_qa_chain\n",
        "\n",
        "llm = OpenAI(temperature=0,\n",
        "             openai_api_key=openai_api_key,\n",
        "             model = \"gpt-3.5-turbo-instruct\")\n",
        "\n",
        "chain = load_qa_chain(llm,\n",
        "                      chain_type=\"map_reduce\",\n",
        "                     verbose = True)"
      ]
    },
    {
      "cell_type": "markdown",
      "metadata": {},
      "source": [
        "**chain_type=\"map_reduce\"** is one way to handle long or complex text when you want the LLM to analyze or summarize it.\n",
        "\n",
        "🧩 The two steps:\n",
        "1. Map Step (like chopping veggies)\n",
        "\n",
        "- The document is split into smaller chunks.\n",
        "\n",
        "- ChatGPT (or the LLM) reads each chunk separately and writes a small summary of each.\n",
        "\n",
        "2. Reduce Step (like mixing ingredients)\n",
        "\n",
        "- All those smaller summaries are then combined into one final summary.\n",
        "\n",
        "- ChatGPT reads the summaries and creates a complete, clean result.\n",
        "\n",
        "✅ Why use map_reduce?\n",
        "- It helps when your document is too long for the model to read all at once.\n",
        "\n",
        "- It makes processing more efficient and accurate.\n",
        "\n",
        "- It lets the LLM stay within its token limits (i.e., memory)."
      ]
    },
    {
      "cell_type": "markdown",
      "metadata": {
        "id": "YS_Ef3WOuzuc"
      },
      "source": [
        "🔎 A note on [temperature](https://blog.lukesalamone.com/posts/what-is-temperature/) and on [\"map_reduce\"](https://github.com/hwchase17/langchain-hub/blob/master/chains/question_answering/map-reduce/chain.json)!"
      ]
    },
    {
      "cell_type": "code",
      "execution_count": 28,
      "metadata": {
        "colab": {
          "base_uri": "https://localhost:8080/"
        },
        "id": "U0ZkiAy0uzuc",
        "outputId": "1c88e4fc-fad2-4762-d2a7-ceefe0931b7f"
      },
      "outputs": [
        {
          "data": {
            "text/plain": [
              "[Document(metadata={'page': 168, 'source': 'book.pdf'}, page_content='Chapter 15\\nClasses and objects\\nAt this point you know how to use functions to organize code and built-in types to organize\\ndata. The next step is to learn “object-oriented programming”, which uses programmer-\\ndeﬁned types to organize both code and data. Object-oriented programming is a big topic;\\nit will take a few chapters to get there.\\nCode examples from this chapter are available from https://thinkpython.com/code/\\nPoint1.py; solutions to the exercises are available fromhttps://thinkpython.com/code/\\nPoint1_soln.py.\\n15.1 Programmer-deﬁned types\\nWe have used many of Python’s built-in types; now we are going to deﬁne a new type. As\\nan example, we will create a type called Point that represents a point in two-dimensional\\nspace.\\nIn mathematical notation, points are often written in parentheses with a comma separating\\nthe coordinates. For example, (0, 0) represents the origin, and (x, y) represents the point x\\nunits to the right and y units up from the origin.\\nThere are several ways we might represent points in Python:\\n• We could store the coordinates separately in two variables, x and y.\\n• We could store the coordinates as elements in a list or tuple.\\n• We could create a new type to represent points as objects.\\nCreating a new type is more complicated than the other options, but it has advantages that\\nwill be apparent soon.\\nA programmer-deﬁned type is also called a class. A class deﬁnition looks like this:\\nclass Point:\\n\"\"\"Represents a point in 2-D space.\"\"\"'),\n",
              " Document(metadata={'page': 169, 'source': 'book.pdf'}, page_content=\"148 Chapter 15. Classes and objects\\nx\\ny\\n3.0\\n4.0\\nblank\\nPoint\\nFigure 15.1: Object diagram.\\nThe header indicates that the new class is called Point. The body is a docstring that ex-\\nplains what the class is for. You can deﬁne variables and methods inside a class deﬁnition,\\nbut we will get back to that later.\\nDeﬁning a class named Point creates a class object.\\n>>> Point\\n<class '__main__.Point'>\\nBecause Point is deﬁned at the top level, its “full name” is __main__.Point.\\nThe class object is like a factory for creating objects. To create a Point, you callPoint as if it\\nwere a function.\\n>>> blank = Point()\\n>>> blank\\n<__main__.Point object at 0xb7e9d3ac>\\nThe return value is a reference to a Point object, which we assign to blank.\\nCreating a new object is called instantiation, and the object is an instance of the class.\\nWhen you print an instance, Python tells you what class it belongs to and where it is stored\\nin memory (the preﬁx 0x means that the following number is in hexadecimal).\\nEvery object is an instance of some class, so “object” and “instance” are interchangeable.\\nBut in this chapter I use “instance” to indicate that I am talking about a programmer-\\ndeﬁned type.\\n15.2 Attributes\\nYou can assign values to an instance using dot notation:\\n>>> blank.x = 3.0\\n>>> blank.y = 4.0\\nThis syntax is similar to the syntax for selecting a variable from a module, such asmath.pi\\nor string.whitespace. In this case, though, we are assigning values to named elements of\\nan object. These elements are called attributes.\\nAs a noun, “AT-trib-ute” is pronounced with emphasis on the ﬁrst syllable, as opposed to\\n“a-TRIB-ute”, which is a verb.\\nFigure 15.1 is a state diagram that shows the result of these assignments. A state diagram\\nthat shows an object and its attributes is called an object diagram.\\nThe variable blank refers to a Point object, which contains two attributes. Each attribute\\nrefers to a ﬂoating-point number.\\nYou can read the value of an attribute using the same syntax:\"),\n",
              " Document(metadata={'page': 174, 'source': 'book.pdf'}, page_content=\"15.8. Glossary 153\\n>>> p = Point()\\n>>> p.x = 3\\n>>> p.y = 4\\n>>> p.z\\nAttributeError: Point instance has no attribute 'z'\\nIf you are not sure what type an object is, you can ask:\\n>>> type(p)\\n<class '__main__.Point'>\\nYou can also use isinstance to check whether an object is an instance of a class:\\n>>> isinstance(p, Point)\\nTrue\\nIf you are not sure whether an object has a particular attribute, you can use the built-in\\nfunction hasattr:\\n>>> hasattr(p, 'x')\\nTrue\\n>>> hasattr(p, 'z')\\nFalse\\nThe ﬁrst argument can be any object; the second argument is astring that contains the name\\nof the attribute.\\nYou can also use a try statement to see if the object has the attributes you need:\\ntry:\\nx = p.x\\nexcept AttributeError:\\nx = 0\\nThis approach can make it easier to write functions that work with different types; more\\non that topic is coming up in Section 17.9.\\n15.8 Glossary\\nclass: A programmer-deﬁned type. A class deﬁnition creates a new class object.\\nclass object: An object that contains information about a programmer-deﬁned type. The\\nclass object can be used to create instances of the type.\\ninstance: An object that belongs to a class.\\ninstantiate: To create a new object.\\nattribute: One of the named values associated with an object.\\nembedded object: An object that is stored as an attribute of another object.\\nshallow copy: To copy the contents of an object, including any references to embedded\\nobjects; implemented by the copy function in the copy module.\\ndeep copy: To copy the contents of an object as well as any embedded objects, and any\\nobjects embedded in them, and so on; implemented by the deepcopy function in the\\ncopy module.\\nobject diagram: A diagram that shows objects, their attributes, and the values of the at-\\ntributes.\"),\n",
              " Document(metadata={'page': 191, 'source': 'book.pdf'}, page_content='170 Chapter 17. Classes and methods\\n17.13 Exercises\\nExercise 17.1. Download the code from this chapter from https: // thinkpython. com/ code/\\nTime2. py. Change the attributes of Time to be a single integer representing seconds since mid-\\nnight. Then modify the methods (and the function int_to_time) to work with the new implemen-\\ntation. You should not have to modify the test code in main. When you are done, the output should\\nbe the same as before. Solution: https: // thinkpython. com/ code/ Time2_ soln. py.\\nExercise 17.2. This exercise is a cautionary tale about one of the most common, and difﬁcult to\\nﬁnd, errors in Python. Write a deﬁnition for a class named Kangaroo with the following methods:\\n1. An __init__ method that initializes an attribute named pouch_contents to an empty list.\\n2. A method named put_in_pouch that takes an object of any type and adds it to\\npouch_contents.\\n3. A __str__ method that returns a string representation of the Kangaroo object and the con-\\ntents of the pouch.\\nTest your code by creating two Kangaroo objects, assigning them to variables named kanga and\\nroo, and then adding roo to the contents of kanga’s pouch.\\nDownload https: // thinkpython. com/ code/ BadKangaroo. py. It contains a solution to the\\nprevious problem with one big, nasty bug. Find and ﬁx the bug.\\nIf you get stuck, you can download https: // thinkpython. com/ code/ GoodKangaroo. py,\\nwhich explains the problem and demonstrates a solution.'),\n",
              " Document(metadata={'page': 182, 'source': 'book.pdf'}, page_content='Chapter 17\\nClasses and methods\\nAlthough we are using some of Python’s object-oriented features, the programs from the\\nlast two chapters are not really object-oriented because they don’t represent the relation-\\nships between programmer-deﬁned types and the functions that operate on them. The next\\nstep is to transform those functions into methods that make the relationships explicit.\\nCode examples from this chapter are available from https://thinkpython.com/code/\\nTime2.py, and solutions to the exercises are in https://thinkpython.com/code/Point2_\\nsoln.py.\\n17.1 Object-oriented features\\nPython is an object-oriented programming language , which means that it provides fea-\\ntures that support object-oriented programming, which has these deﬁning characteristics:\\n• Programs include class and method deﬁnitions.\\n• Most of the computation is expressed in terms of operations on objects.\\n• Objects often represent things in the real world, and methods often correspond to the\\nways things in the real world interact.\\nFor example, the Time class deﬁned in Chapter 16 corresponds to the way people record\\nthe time of day, and the functions we deﬁned correspond to the kinds of things people do\\nwith times. Similarly, the Point and Rectangle classes in Chapter 15 correspond to the\\nmathematical concepts of a point and a rectangle.\\nSo far, we have not taken advantage of the features Python provides to support object-\\noriented programming. These features are not strictly necessary; most of them provide\\nalternative syntax for things we have already done. But in many cases, the alternative is\\nmore concise and more accurately conveys the structure of the program.\\nFor example, in Time1.py there is no obvious connection between the class deﬁnition and\\nthe function deﬁnitions that follow. With some examination, it is apparent that every func-\\ntion takes at least one Time object as an argument.')]"
            ]
          },
          "execution_count": 28,
          "metadata": {},
          "output_type": "execute_result"
        }
      ],
      "source": [
        "query = \"How do I define a class in Python\"\n",
        "\n",
        "docs = vector_db.similarity_search(query,\n",
        "                                   k=5)\n",
        "docs"
      ]
    },
    {
      "cell_type": "code",
      "execution_count": 29,
      "metadata": {
        "colab": {
          "base_uri": "https://localhost:8080/",
          "height": 1000
        },
        "id": "dOD8TExZuzuc",
        "outputId": "d3fd2ef4-611b-4f2c-a5cd-45f532724569"
      },
      "outputs": [
        {
          "name": "stderr",
          "output_type": "stream",
          "text": [
            "/tmp/ipykernel_36609/2708201610.py:1: LangChainDeprecationWarning: The method `Chain.run` was deprecated in langchain 0.1.0 and will be removed in 1.0. Use :meth:`~invoke` instead.\n",
            "  chain.run(input_documents=docs, question=query)\n"
          ]
        },
        {
          "name": "stdout",
          "output_type": "stream",
          "text": [
            "\n",
            "\n",
            "\u001b[1m> Entering new MapReduceDocumentsChain chain...\u001b[0m\n",
            "\n",
            "\n",
            "\u001b[1m> Entering new LLMChain chain...\u001b[0m\n",
            "Prompt after formatting:\n",
            "\u001b[32;1m\u001b[1;3mUse the following portion of a long document to see if any of the text is relevant to answer the question. \n",
            "Return any relevant text verbatim.\n",
            "Chapter 15\n",
            "Classes and objects\n",
            "At this point you know how to use functions to organize code and built-in types to organize\n",
            "data. The next step is to learn “object-oriented programming”, which uses programmer-\n",
            "deﬁned types to organize both code and data. Object-oriented programming is a big topic;\n",
            "it will take a few chapters to get there.\n",
            "Code examples from this chapter are available from https://thinkpython.com/code/\n",
            "Point1.py; solutions to the exercises are available fromhttps://thinkpython.com/code/\n",
            "Point1_soln.py.\n",
            "15.1 Programmer-deﬁned types\n",
            "We have used many of Python’s built-in types; now we are going to deﬁne a new type. As\n",
            "an example, we will create a type called Point that represents a point in two-dimensional\n",
            "space.\n",
            "In mathematical notation, points are often written in parentheses with a comma separating\n",
            "the coordinates. For example, (0, 0) represents the origin, and (x, y) represents the point x\n",
            "units to the right and y units up from the origin.\n",
            "There are several ways we might represent points in Python:\n",
            "• We could store the coordinates separately in two variables, x and y.\n",
            "• We could store the coordinates as elements in a list or tuple.\n",
            "• We could create a new type to represent points as objects.\n",
            "Creating a new type is more complicated than the other options, but it has advantages that\n",
            "will be apparent soon.\n",
            "A programmer-deﬁned type is also called a class. A class deﬁnition looks like this:\n",
            "class Point:\n",
            "\"\"\"Represents a point in 2-D space.\"\"\"\n",
            "Question: How do I define a class in Python\n",
            "Relevant text, if any:\u001b[0m\n",
            "Prompt after formatting:\n",
            "\u001b[32;1m\u001b[1;3mUse the following portion of a long document to see if any of the text is relevant to answer the question. \n",
            "Return any relevant text verbatim.\n",
            "148 Chapter 15. Classes and objects\n",
            "x\n",
            "y\n",
            "3.0\n",
            "4.0\n",
            "blank\n",
            "Point\n",
            "Figure 15.1: Object diagram.\n",
            "The header indicates that the new class is called Point. The body is a docstring that ex-\n",
            "plains what the class is for. You can deﬁne variables and methods inside a class deﬁnition,\n",
            "but we will get back to that later.\n",
            "Deﬁning a class named Point creates a class object.\n",
            ">>> Point\n",
            "<class '__main__.Point'>\n",
            "Because Point is deﬁned at the top level, its “full name” is __main__.Point.\n",
            "The class object is like a factory for creating objects. To create a Point, you callPoint as if it\n",
            "were a function.\n",
            ">>> blank = Point()\n",
            ">>> blank\n",
            "<__main__.Point object at 0xb7e9d3ac>\n",
            "The return value is a reference to a Point object, which we assign to blank.\n",
            "Creating a new object is called instantiation, and the object is an instance of the class.\n",
            "When you print an instance, Python tells you what class it belongs to and where it is stored\n",
            "in memory (the preﬁx 0x means that the following number is in hexadecimal).\n",
            "Every object is an instance of some class, so “object” and “instance” are interchangeable.\n",
            "But in this chapter I use “instance” to indicate that I am talking about a programmer-\n",
            "deﬁned type.\n",
            "15.2 Attributes\n",
            "You can assign values to an instance using dot notation:\n",
            ">>> blank.x = 3.0\n",
            ">>> blank.y = 4.0\n",
            "This syntax is similar to the syntax for selecting a variable from a module, such asmath.pi\n",
            "or string.whitespace. In this case, though, we are assigning values to named elements of\n",
            "an object. These elements are called attributes.\n",
            "As a noun, “AT-trib-ute” is pronounced with emphasis on the ﬁrst syllable, as opposed to\n",
            "“a-TRIB-ute”, which is a verb.\n",
            "Figure 15.1 is a state diagram that shows the result of these assignments. A state diagram\n",
            "that shows an object and its attributes is called an object diagram.\n",
            "The variable blank refers to a Point object, which contains two attributes. Each attribute\n",
            "refers to a ﬂoating-point number.\n",
            "You can read the value of an attribute using the same syntax:\n",
            "Question: How do I define a class in Python\n",
            "Relevant text, if any:\u001b[0m\n",
            "Prompt after formatting:\n",
            "\u001b[32;1m\u001b[1;3mUse the following portion of a long document to see if any of the text is relevant to answer the question. \n",
            "Return any relevant text verbatim.\n",
            "15.8. Glossary 153\n",
            ">>> p = Point()\n",
            ">>> p.x = 3\n",
            ">>> p.y = 4\n",
            ">>> p.z\n",
            "AttributeError: Point instance has no attribute 'z'\n",
            "If you are not sure what type an object is, you can ask:\n",
            ">>> type(p)\n",
            "<class '__main__.Point'>\n",
            "You can also use isinstance to check whether an object is an instance of a class:\n",
            ">>> isinstance(p, Point)\n",
            "True\n",
            "If you are not sure whether an object has a particular attribute, you can use the built-in\n",
            "function hasattr:\n",
            ">>> hasattr(p, 'x')\n",
            "True\n",
            ">>> hasattr(p, 'z')\n",
            "False\n",
            "The ﬁrst argument can be any object; the second argument is astring that contains the name\n",
            "of the attribute.\n",
            "You can also use a try statement to see if the object has the attributes you need:\n",
            "try:\n",
            "x = p.x\n",
            "except AttributeError:\n",
            "x = 0\n",
            "This approach can make it easier to write functions that work with different types; more\n",
            "on that topic is coming up in Section 17.9.\n",
            "15.8 Glossary\n",
            "class: A programmer-deﬁned type. A class deﬁnition creates a new class object.\n",
            "class object: An object that contains information about a programmer-deﬁned type. The\n",
            "class object can be used to create instances of the type.\n",
            "instance: An object that belongs to a class.\n",
            "instantiate: To create a new object.\n",
            "attribute: One of the named values associated with an object.\n",
            "embedded object: An object that is stored as an attribute of another object.\n",
            "shallow copy: To copy the contents of an object, including any references to embedded\n",
            "objects; implemented by the copy function in the copy module.\n",
            "deep copy: To copy the contents of an object as well as any embedded objects, and any\n",
            "objects embedded in them, and so on; implemented by the deepcopy function in the\n",
            "copy module.\n",
            "object diagram: A diagram that shows objects, their attributes, and the values of the at-\n",
            "tributes.\n",
            "Question: How do I define a class in Python\n",
            "Relevant text, if any:\u001b[0m\n",
            "Prompt after formatting:\n",
            "\u001b[32;1m\u001b[1;3mUse the following portion of a long document to see if any of the text is relevant to answer the question. \n",
            "Return any relevant text verbatim.\n",
            "170 Chapter 17. Classes and methods\n",
            "17.13 Exercises\n",
            "Exercise 17.1. Download the code from this chapter from https: // thinkpython. com/ code/\n",
            "Time2. py. Change the attributes of Time to be a single integer representing seconds since mid-\n",
            "night. Then modify the methods (and the function int_to_time) to work with the new implemen-\n",
            "tation. You should not have to modify the test code in main. When you are done, the output should\n",
            "be the same as before. Solution: https: // thinkpython. com/ code/ Time2_ soln. py.\n",
            "Exercise 17.2. This exercise is a cautionary tale about one of the most common, and difﬁcult to\n",
            "ﬁnd, errors in Python. Write a deﬁnition for a class named Kangaroo with the following methods:\n",
            "1. An __init__ method that initializes an attribute named pouch_contents to an empty list.\n",
            "2. A method named put_in_pouch that takes an object of any type and adds it to\n",
            "pouch_contents.\n",
            "3. A __str__ method that returns a string representation of the Kangaroo object and the con-\n",
            "tents of the pouch.\n",
            "Test your code by creating two Kangaroo objects, assigning them to variables named kanga and\n",
            "roo, and then adding roo to the contents of kanga’s pouch.\n",
            "Download https: // thinkpython. com/ code/ BadKangaroo. py. It contains a solution to the\n",
            "previous problem with one big, nasty bug. Find and ﬁx the bug.\n",
            "If you get stuck, you can download https: // thinkpython. com/ code/ GoodKangaroo. py,\n",
            "which explains the problem and demonstrates a solution.\n",
            "Question: How do I define a class in Python\n",
            "Relevant text, if any:\u001b[0m\n",
            "Prompt after formatting:\n",
            "\u001b[32;1m\u001b[1;3mUse the following portion of a long document to see if any of the text is relevant to answer the question. \n",
            "Return any relevant text verbatim.\n",
            "Chapter 17\n",
            "Classes and methods\n",
            "Although we are using some of Python’s object-oriented features, the programs from the\n",
            "last two chapters are not really object-oriented because they don’t represent the relation-\n",
            "ships between programmer-deﬁned types and the functions that operate on them. The next\n",
            "step is to transform those functions into methods that make the relationships explicit.\n",
            "Code examples from this chapter are available from https://thinkpython.com/code/\n",
            "Time2.py, and solutions to the exercises are in https://thinkpython.com/code/Point2_\n",
            "soln.py.\n",
            "17.1 Object-oriented features\n",
            "Python is an object-oriented programming language , which means that it provides fea-\n",
            "tures that support object-oriented programming, which has these deﬁning characteristics:\n",
            "• Programs include class and method deﬁnitions.\n",
            "• Most of the computation is expressed in terms of operations on objects.\n",
            "• Objects often represent things in the real world, and methods often correspond to the\n",
            "ways things in the real world interact.\n",
            "For example, the Time class deﬁned in Chapter 16 corresponds to the way people record\n",
            "the time of day, and the functions we deﬁned correspond to the kinds of things people do\n",
            "with times. Similarly, the Point and Rectangle classes in Chapter 15 correspond to the\n",
            "mathematical concepts of a point and a rectangle.\n",
            "So far, we have not taken advantage of the features Python provides to support object-\n",
            "oriented programming. These features are not strictly necessary; most of them provide\n",
            "alternative syntax for things we have already done. But in many cases, the alternative is\n",
            "more concise and more accurately conveys the structure of the program.\n",
            "For example, in Time1.py there is no obvious connection between the class deﬁnition and\n",
            "the function deﬁnitions that follow. With some examination, it is apparent that every func-\n",
            "tion takes at least one Time object as an argument.\n",
            "Question: How do I define a class in Python\n",
            "Relevant text, if any:\u001b[0m\n",
            "\n",
            "\u001b[1m> Finished chain.\u001b[0m\n",
            "\n",
            "\n",
            "\u001b[1m> Entering new LLMChain chain...\u001b[0m\n",
            "Prompt after formatting:\n",
            "\u001b[32;1m\u001b[1;3mGiven the following extracted parts of a long document and a question, create a final answer. \n",
            "If you don't know the answer, just say that you don't know. Don't try to make up an answer.\n",
            "\n",
            "QUESTION: Which state/country's law governs the interpretation of the contract?\n",
            "=========\n",
            "Content: This Agreement is governed by English law and the parties submit to the exclusive jurisdiction of the English courts in  relation to any dispute (contractual or non-contractual) concerning this Agreement save that either party may apply to any court for an  injunction or other relief to protect its Intellectual Property Rights.\n",
            "\n",
            "Content: No Waiver. Failure or delay in exercising any right or remedy under this Agreement shall not constitute a waiver of such (or any other)  right or remedy.\n",
            "\n",
            "11.7 Severability. The invalidity, illegality or unenforceability of any term (or part of a term) of this Agreement shall not affect the continuation  in force of the remainder of the term (if any) and this Agreement.\n",
            "\n",
            "11.8 No Agency. Except as expressly stated otherwise, nothing in this Agreement shall create an agency, partnership or joint venture of any  kind between the parties.\n",
            "\n",
            "11.9 No Third-Party Beneficiaries.\n",
            "\n",
            "Content: (b) if Google believes, in good faith, that the Distributor has violated or caused Google to violate any Anti-Bribery Laws (as  defined in Clause 8.5) or that such a violation is reasonably likely to occur,\n",
            "=========\n",
            "FINAL ANSWER: This Agreement is governed by English law.\n",
            "\n",
            "QUESTION: What did the president say about Michael Jackson?\n",
            "=========\n",
            "Content: Madam Speaker, Madam Vice President, our First Lady and Second Gentleman. Members of Congress and the Cabinet. Justices of the Supreme Court. My fellow Americans.  \n",
            "\n",
            "Last year COVID-19 kept us apart. This year we are finally together again. \n",
            "\n",
            "Tonight, we meet as Democrats Republicans and Independents. But most importantly as Americans. \n",
            "\n",
            "With a duty to one another to the American people to the Constitution. \n",
            "\n",
            "And with an unwavering resolve that freedom will always triumph over tyranny. \n",
            "\n",
            "Six days ago, Russia’s Vladimir Putin sought to shake the foundations of the free world thinking he could make it bend to his menacing ways. But he badly miscalculated. \n",
            "\n",
            "He thought he could roll into Ukraine and the world would roll over. Instead he met a wall of strength he never imagined. \n",
            "\n",
            "He met the Ukrainian people. \n",
            "\n",
            "From President Zelenskyy to every Ukrainian, their fearlessness, their courage, their determination, inspires the world. \n",
            "\n",
            "Groups of citizens blocking tanks with their bodies. Everyone from students to retirees teachers turned soldiers defending their homeland.\n",
            "\n",
            "Content: And we won’t stop. \n",
            "\n",
            "We have lost so much to COVID-19. Time with one another. And worst of all, so much loss of life. \n",
            "\n",
            "Let’s use this moment to reset. Let’s stop looking at COVID-19 as a partisan dividing line and see it for what it is: A God-awful disease.  \n",
            "\n",
            "Let’s stop seeing each other as enemies, and start seeing each other for who we really are: Fellow Americans.  \n",
            "\n",
            "We can’t change how divided we’ve been. But we can change how we move forward—on COVID-19 and other issues we must face together. \n",
            "\n",
            "I recently visited the New York City Police Department days after the funerals of Officer Wilbert Mora and his partner, Officer Jason Rivera. \n",
            "\n",
            "They were responding to a 9-1-1 call when a man shot and killed them with a stolen gun. \n",
            "\n",
            "Officer Mora was 27 years old. \n",
            "\n",
            "Officer Rivera was 22. \n",
            "\n",
            "Both Dominican Americans who’d grown up on the same streets they later chose to patrol as police officers. \n",
            "\n",
            "I spoke with their families and told them that we are forever in debt for their sacrifice, and we will carry on their mission to restore the trust and safety every community deserves.\n",
            "\n",
            "Content: And a proud Ukrainian people, who have known 30 years  of independence, have repeatedly shown that they will not tolerate anyone who tries to take their country backwards.  \n",
            "\n",
            "To all Americans, I will be honest with you, as I’ve always promised. A Russian dictator, invading a foreign country, has costs around the world. \n",
            "\n",
            "And I’m taking robust action to make sure the pain of our sanctions  is targeted at Russia’s economy. And I will use every tool at our disposal to protect American businesses and consumers. \n",
            "\n",
            "Tonight, I can announce that the United States has worked with 30 other countries to release 60 Million barrels of oil from reserves around the world.  \n",
            "\n",
            "America will lead that effort, releasing 30 Million barrels from our own Strategic Petroleum Reserve. And we stand ready to do more if necessary, unified with our allies.  \n",
            "\n",
            "These steps will help blunt gas prices here at home. And I know the news about what’s happening can seem alarming. \n",
            "\n",
            "But I want you to know that we are going to be okay.\n",
            "\n",
            "Content: More support for patients and families. \n",
            "\n",
            "To get there, I call on Congress to fund ARPA-H, the Advanced Research Projects Agency for Health. \n",
            "\n",
            "It’s based on DARPA—the Defense Department project that led to the Internet, GPS, and so much more.  \n",
            "\n",
            "ARPA-H will have a singular purpose—to drive breakthroughs in cancer, Alzheimer’s, diabetes, and more. \n",
            "\n",
            "A unity agenda for the nation. \n",
            "\n",
            "We can do this. \n",
            "\n",
            "My fellow Americans—tonight , we have gathered in a sacred space—the citadel of our democracy. \n",
            "\n",
            "In this Capitol, generation after generation, Americans have debated great questions amid great strife, and have done great things. \n",
            "\n",
            "We have fought for freedom, expanded liberty, defeated totalitarianism and terror. \n",
            "\n",
            "And built the strongest, freest, and most prosperous nation the world has ever known. \n",
            "\n",
            "Now is the hour. \n",
            "\n",
            "Our moment of responsibility. \n",
            "\n",
            "Our test of resolve and conscience, of history itself. \n",
            "\n",
            "It is in this moment that our character is formed. Our purpose is found. Our future is forged. \n",
            "\n",
            "Well I know this nation.\n",
            "=========\n",
            "FINAL ANSWER: The president did not mention Michael Jackson.\n",
            "\n",
            "QUESTION: How do I define a class in Python\n",
            "=========\n",
            "\n",
            "A programmer-deﬁned type is also called a class. A class deﬁnition looks like this:\n",
            "class Point:\n",
            "\"\"\"Represents a point in 2-D space.\"\"\"\n",
            "\n",
            "\n",
            "148 Chapter 15. Classes and objects\n",
            "x\n",
            "y\n",
            "3.0\n",
            "4.0\n",
            "blank\n",
            "Point\n",
            "Figure 15.1: Object diagram.\n",
            "The header indicates that the new class is called Point.\n",
            "\n",
            "\n",
            "class: A programmer-deﬁned type. A class deﬁnition creates a new class object.\n",
            "\n",
            "\n",
            "170 Chapter 17. Classes and methods\n",
            "17.13 Exercises\n",
            "Exercise 17.2. This exercise is a cautionary tale about one of the most common, and difﬁcult to\n",
            "ﬁnd, errors in Python. Write a deﬁnition for a class named Kangaroo with the following methods:\n",
            "1. An __init__ method that initializes an attribute named pouch_contents to an empty list.\n",
            "2. A method named put_in_pouch that takes an object of any type and adds it to\n",
            "pouch_contents.\n",
            "3. A __str__ method that returns a string representation of the Kangaroo object and the con-\n",
            "tents of the pouch.\n",
            "\n",
            "\n",
            "Chapter 17\n",
            "Classes and methods\n",
            "Although we are using some of Python’s object-oriented features, the programs from the\n",
            "last two chapters are not really object-oriented because they don’t represent the relation-\n",
            "ships between programmer-deﬁned types and the functions that operate on them. The next\n",
            "step is to transform those functions into methods that make the relationships explicit.\n",
            "17.1 Object-oriented features\n",
            "Python is an object-oriented programming language , which means that it provides fea-\n",
            "tures that support object-oriented programming, which has these deﬁning characteristics:\n",
            "• Programs include class and method deﬁnitions.\n",
            "=========\n",
            "FINAL ANSWER:\u001b[0m\n",
            "\n",
            "\u001b[1m> Finished chain.\u001b[0m\n",
            "\n",
            "\u001b[1m> Finished chain.\u001b[0m\n"
          ]
        },
        {
          "data": {
            "text/plain": [
              "' To define a class in Python, use the keyword \"class\" followed by the name of the class. Within the class, define methods using the \"def\" keyword. Use the \"__init__\" method to initialize attributes and the \"__str__\" method to return a string representation of the object.'"
            ]
          },
          "execution_count": 29,
          "metadata": {},
          "output_type": "execute_result"
        }
      ],
      "source": [
        "chain.run(input_documents=docs, question=query)"
      ]
    },
    {
      "cell_type": "markdown",
      "metadata": {
        "id": "pRQaIfoduzue"
      },
      "source": [
        "## Further Readings\n",
        "\n",
        "- [OpenAI API Docs](https://platform.openai.com/docs/concepts): Filled with code examples to use\n",
        "- [Andrew Ng's Prompt Engineering](https://www.deeplearning.ai/short-courses/chatgpt-prompt-engineering-for-developers/) for Developers: Excellent, free 1-hour course\n"
      ]
    }
  ],
  "metadata": {
    "colab": {
      "provenance": []
    },
    "kernelspec": {
      "display_name": "bootcamp",
      "language": "python",
      "name": "python3"
    },
    "language_info": {
      "codemirror_mode": {
        "name": "ipython",
        "version": 3
      },
      "file_extension": ".py",
      "mimetype": "text/x-python",
      "name": "python",
      "nbconvert_exporter": "python",
      "pygments_lexer": "ipython3",
      "version": "3.12.0"
    }
  },
  "nbformat": 4,
  "nbformat_minor": 0
}
